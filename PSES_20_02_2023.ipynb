{
  "nbformat": 4,
  "nbformat_minor": 0,
  "metadata": {
    "colab": {
      "provenance": [],
      "include_colab_link": true
    },
    "kernelspec": {
      "name": "python3",
      "display_name": "Python 3"
    },
    "language_info": {
      "name": "python"
    }
  },
  "cells": [
    {
      "cell_type": "markdown",
      "metadata": {
        "id": "view-in-github",
        "colab_type": "text"
      },
      "source": [
        "<a href=\"https://colab.research.google.com/github/Thimmarajp55/Guvi_test/blob/main/PSES_20_02_2023.ipynb\" target=\"_parent\"><img src=\"https://colab.research.google.com/assets/colab-badge.svg\" alt=\"Open In Colab\"/></a>"
      ]
    },
    {
      "cell_type": "code",
      "execution_count": null,
      "metadata": {
        "colab": {
          "base_uri": "https://localhost:8080/"
        },
        "id": "usjfcN8bZ10x",
        "outputId": "6a484ff3-7890-4d85-97f7-6cd33e3852d9"
      },
      "outputs": [
        {
          "output_type": "stream",
          "name": "stdout",
          "text": [
            "Hello World!\n"
          ]
        }
      ],
      "source": [
        "print('Hello World!')\n",
        "# shift+enter --> run the code\n",
        "# ctrl+/(forward slash) --> make the line as a comment"
      ]
    },
    {
      "cell_type": "code",
      "source": [
        "print('Welcome to Data Science')"
      ],
      "metadata": {
        "colab": {
          "base_uri": "https://localhost:8080/"
        },
        "id": "R6ix4UlEaTE_",
        "outputId": "62d6c37a-6640-488d-e738-2b7d6efdd5a0"
      },
      "execution_count": null,
      "outputs": [
        {
          "output_type": "stream",
          "name": "stdout",
          "text": [
            "Welcome to Data Science\n"
          ]
        }
      ]
    },
    {
      "cell_type": "code",
      "source": [
        "# Variable and values"
      ],
      "metadata": {
        "id": "OJ3yqisXauAg"
      },
      "execution_count": null,
      "outputs": []
    },
    {
      "cell_type": "code",
      "source": [
        "a = 10"
      ],
      "metadata": {
        "id": "ycj80Fbka71j"
      },
      "execution_count": null,
      "outputs": []
    },
    {
      "cell_type": "code",
      "source": [
        "a"
      ],
      "metadata": {
        "colab": {
          "base_uri": "https://localhost:8080/"
        },
        "id": "-CwVvANrbEyG",
        "outputId": "10128f5d-443c-4090-a65e-b4db0cf6cb54"
      },
      "execution_count": null,
      "outputs": [
        {
          "output_type": "execute_result",
          "data": {
            "text/plain": [
              "10"
            ]
          },
          "metadata": {},
          "execution_count": 63
        }
      ]
    },
    {
      "cell_type": "code",
      "source": [
        "print(a)"
      ],
      "metadata": {
        "colab": {
          "base_uri": "https://localhost:8080/"
        },
        "id": "iAwYezFHbFpJ",
        "outputId": "010a1aa9-679d-4dbf-f78f-ecfce0eb2df4"
      },
      "execution_count": null,
      "outputs": [
        {
          "output_type": "stream",
          "name": "stdout",
          "text": [
            "10\n"
          ]
        }
      ]
    },
    {
      "cell_type": "code",
      "source": [
        "b = 20 "
      ],
      "metadata": {
        "id": "PUlFsjkabJyz"
      },
      "execution_count": null,
      "outputs": []
    },
    {
      "cell_type": "code",
      "source": [
        "print(b)"
      ],
      "metadata": {
        "colab": {
          "base_uri": "https://localhost:8080/"
        },
        "id": "O0584_LmbSYp",
        "outputId": "1d3ad8bf-67cd-4511-c57e-05053b8a60d2"
      },
      "execution_count": null,
      "outputs": [
        {
          "output_type": "stream",
          "name": "stdout",
          "text": [
            "20\n"
          ]
        }
      ]
    },
    {
      "cell_type": "code",
      "source": [
        "# Rules and naming conventions\n",
        "# never use special characters !,@,#,$\n",
        "# underscore can be used _\n",
        "# reserved key words cannot be used \n",
        "# do not start a variable with a digit"
      ],
      "metadata": {
        "id": "OYKjhjwHbWv1"
      },
      "execution_count": null,
      "outputs": []
    },
    {
      "cell_type": "code",
      "source": [
        "!var = 10"
      ],
      "metadata": {
        "colab": {
          "base_uri": "https://localhost:8080/"
        },
        "id": "CAJ2wGlob8yU",
        "outputId": "f5e90e6b-2d18-4fcd-9b85-020b2c6d200b"
      },
      "execution_count": null,
      "outputs": [
        {
          "output_type": "stream",
          "name": "stdout",
          "text": [
            "/bin/bash: var: command not found\n"
          ]
        }
      ]
    },
    {
      "cell_type": "code",
      "source": [
        "var! = 10"
      ],
      "metadata": {
        "colab": {
          "base_uri": "https://localhost:8080/",
          "height": 130
        },
        "id": "sA8ewyG7cBVV",
        "outputId": "11474d88-888e-4ed1-bfae-beae4cccf64d"
      },
      "execution_count": null,
      "outputs": [
        {
          "output_type": "error",
          "ename": "SyntaxError",
          "evalue": "ignored",
          "traceback": [
            "\u001b[0;36m  File \u001b[0;32m\"<ipython-input-71-0fa6543e805a>\"\u001b[0;36m, line \u001b[0;32m1\u001b[0m\n\u001b[0;31m    var! = 10\u001b[0m\n\u001b[0m       ^\u001b[0m\n\u001b[0;31mSyntaxError\u001b[0m\u001b[0;31m:\u001b[0m invalid syntax\n"
          ]
        }
      ]
    },
    {
      "cell_type": "code",
      "source": [
        "var_1 = 10"
      ],
      "metadata": {
        "id": "V6GMv9i5cGQp"
      },
      "execution_count": null,
      "outputs": []
    },
    {
      "cell_type": "code",
      "source": [
        "var_1"
      ],
      "metadata": {
        "colab": {
          "base_uri": "https://localhost:8080/"
        },
        "id": "GY3EW5CycL3t",
        "outputId": "208a4919-dc65-4fd1-c692-9bade7ef87ee"
      },
      "execution_count": null,
      "outputs": [
        {
          "output_type": "execute_result",
          "data": {
            "text/plain": [
              "10"
            ]
          },
          "metadata": {},
          "execution_count": 73
        }
      ]
    },
    {
      "cell_type": "code",
      "source": [
        "1var = 50"
      ],
      "metadata": {
        "colab": {
          "base_uri": "https://localhost:8080/",
          "height": 130
        },
        "id": "_Nwvv3lUcNZF",
        "outputId": "4c59fd42-3f7e-48d8-8012-233d41ed5e8c"
      },
      "execution_count": null,
      "outputs": [
        {
          "output_type": "error",
          "ename": "SyntaxError",
          "evalue": "ignored",
          "traceback": [
            "\u001b[0;36m  File \u001b[0;32m\"<ipython-input-74-e80bc58c095c>\"\u001b[0;36m, line \u001b[0;32m1\u001b[0m\n\u001b[0;31m    1var = 50\u001b[0m\n\u001b[0m     ^\u001b[0m\n\u001b[0;31mSyntaxError\u001b[0m\u001b[0;31m:\u001b[0m invalid syntax\n"
          ]
        }
      ]
    },
    {
      "cell_type": "code",
      "source": [
        "var1 = 10"
      ],
      "metadata": {
        "id": "eGlsEdDKcZIA"
      },
      "execution_count": null,
      "outputs": []
    },
    {
      "cell_type": "code",
      "source": [
        "a = 10\n",
        "b = 20\n",
        "c = 30"
      ],
      "metadata": {
        "id": "v4GutPcUcbYL"
      },
      "execution_count": null,
      "outputs": []
    },
    {
      "cell_type": "code",
      "source": [
        "print(a)\n",
        "print(b)\n",
        "c"
      ],
      "metadata": {
        "colab": {
          "base_uri": "https://localhost:8080/"
        },
        "id": "L7OWONZrciQE",
        "outputId": "44ac99f7-3b35-4a5b-bd9f-9ac6e862ba00"
      },
      "execution_count": null,
      "outputs": [
        {
          "output_type": "stream",
          "name": "stdout",
          "text": [
            "10\n",
            "20\n"
          ]
        },
        {
          "output_type": "execute_result",
          "data": {
            "text/plain": [
              "30"
            ]
          },
          "metadata": {},
          "execution_count": 77
        }
      ]
    },
    {
      "cell_type": "code",
      "source": [
        "# how to get the input from the user"
      ],
      "metadata": {
        "id": "9rAmv_dacjgA"
      },
      "execution_count": null,
      "outputs": []
    },
    {
      "cell_type": "code",
      "source": [
        "\n",
        "a = input('Enter the value ')"
      ],
      "metadata": {
        "colab": {
          "base_uri": "https://localhost:8080/"
        },
        "id": "cuhQz8W7dCrb",
        "outputId": "a49b6f5e-f510-4ac2-8c9a-19a68743e0d0"
      },
      "execution_count": null,
      "outputs": [
        {
          "name": "stdout",
          "output_type": "stream",
          "text": [
            "Enter the value 123\n"
          ]
        }
      ]
    },
    {
      "cell_type": "code",
      "source": [
        "type(a)"
      ],
      "metadata": {
        "colab": {
          "base_uri": "https://localhost:8080/"
        },
        "id": "wyzg_mDZdPkf",
        "outputId": "015bda9d-e77e-45bf-81e4-919dbf11d4d6"
      },
      "execution_count": null,
      "outputs": [
        {
          "output_type": "execute_result",
          "data": {
            "text/plain": [
              "str"
            ]
          },
          "metadata": {},
          "execution_count": 84
        }
      ]
    },
    {
      "cell_type": "code",
      "source": [
        "# Data Types\n",
        "# int\n",
        "# float --> decimal values\n",
        "# complex --> real part and the imaginary part\n",
        "# string --> within the \"\",''"
      ],
      "metadata": {
        "id": "eH781YqTdW5j"
      },
      "execution_count": null,
      "outputs": []
    },
    {
      "cell_type": "code",
      "source": [
        "a = 10"
      ],
      "metadata": {
        "id": "zOSNkE-RdbOU"
      },
      "execution_count": null,
      "outputs": []
    },
    {
      "cell_type": "code",
      "source": [
        "type(a)"
      ],
      "metadata": {
        "colab": {
          "base_uri": "https://localhost:8080/"
        },
        "id": "t45Y9znVd2oW",
        "outputId": "b469019e-1375-4144-ec1d-d7ff1750c279"
      },
      "execution_count": null,
      "outputs": [
        {
          "output_type": "execute_result",
          "data": {
            "text/plain": [
              "str"
            ]
          },
          "metadata": {},
          "execution_count": 85
        }
      ]
    },
    {
      "cell_type": "code",
      "source": [
        "b = 27.05"
      ],
      "metadata": {
        "id": "LmKvpkdgd9FK"
      },
      "execution_count": null,
      "outputs": []
    },
    {
      "cell_type": "code",
      "source": [
        "type(b)"
      ],
      "metadata": {
        "colab": {
          "base_uri": "https://localhost:8080/"
        },
        "id": "Ex3xrBK1eD_e",
        "outputId": "fa5e37cc-323e-4dc3-e86a-fa89763dacb2"
      },
      "execution_count": null,
      "outputs": [
        {
          "output_type": "execute_result",
          "data": {
            "text/plain": [
              "float"
            ]
          },
          "metadata": {},
          "execution_count": 87
        }
      ]
    },
    {
      "cell_type": "code",
      "source": [
        "c = 27+14j"
      ],
      "metadata": {
        "id": "NKv2rAX8eHh2"
      },
      "execution_count": null,
      "outputs": []
    },
    {
      "cell_type": "code",
      "source": [
        "type(c)"
      ],
      "metadata": {
        "colab": {
          "base_uri": "https://localhost:8080/"
        },
        "id": "fTE6CFhweWLP",
        "outputId": "b0dcf862-dcc4-456d-ae93-70a383b916e4"
      },
      "execution_count": null,
      "outputs": [
        {
          "output_type": "execute_result",
          "data": {
            "text/plain": [
              "complex"
            ]
          },
          "metadata": {},
          "execution_count": 89
        }
      ]
    },
    {
      "cell_type": "code",
      "source": [
        "d = 'Guvi'"
      ],
      "metadata": {
        "id": "T1jyKXHBeZ_3"
      },
      "execution_count": null,
      "outputs": []
    },
    {
      "cell_type": "code",
      "source": [
        "type(d)"
      ],
      "metadata": {
        "colab": {
          "base_uri": "https://localhost:8080/"
        },
        "id": "eL554EZoei-0",
        "outputId": "bc6c0320-833b-41a5-d7ab-e261e6ffd6e1"
      },
      "execution_count": null,
      "outputs": [
        {
          "output_type": "execute_result",
          "data": {
            "text/plain": [
              "str"
            ]
          },
          "metadata": {},
          "execution_count": 91
        }
      ]
    },
    {
      "cell_type": "code",
      "source": [
        "e = '123'"
      ],
      "metadata": {
        "id": "KwgH0Jgbej6S"
      },
      "execution_count": null,
      "outputs": []
    },
    {
      "cell_type": "code",
      "source": [
        "type(e)"
      ],
      "metadata": {
        "colab": {
          "base_uri": "https://localhost:8080/"
        },
        "id": "J5QUkgp8epvi",
        "outputId": "aa5ba547-04f9-42a6-b46d-e78a9035372a"
      },
      "execution_count": null,
      "outputs": [
        {
          "output_type": "execute_result",
          "data": {
            "text/plain": [
              "str"
            ]
          },
          "metadata": {},
          "execution_count": 93
        }
      ]
    },
    {
      "cell_type": "code",
      "source": [
        "# task 1 --> Assign the variable and check the type of it\n",
        "# a = GUVI\n",
        "# b = 125.015\n",
        "# c = 27+15a\n",
        "# d = 1489579"
      ],
      "metadata": {
        "id": "xgWJV19berII"
      },
      "execution_count": null,
      "outputs": []
    },
    {
      "cell_type": "code",
      "source": [
        "a = 'GUVI'\n",
        "type(a)"
      ],
      "metadata": {
        "colab": {
          "base_uri": "https://localhost:8080/"
        },
        "id": "frRANI5rfXki",
        "outputId": "87c7d099-1f50-4261-d4a5-497c31b80eae"
      },
      "execution_count": null,
      "outputs": [
        {
          "output_type": "execute_result",
          "data": {
            "text/plain": [
              "str"
            ]
          },
          "metadata": {},
          "execution_count": 95
        }
      ]
    },
    {
      "cell_type": "code",
      "source": [
        "b = 125.015\n",
        "type(b)"
      ],
      "metadata": {
        "colab": {
          "base_uri": "https://localhost:8080/"
        },
        "id": "Drz2vLQSgxUb",
        "outputId": "55a0fffd-e3b5-45fe-8b1e-cb1ac2f01f1a"
      },
      "execution_count": null,
      "outputs": [
        {
          "output_type": "execute_result",
          "data": {
            "text/plain": [
              "float"
            ]
          },
          "metadata": {},
          "execution_count": 96
        }
      ]
    },
    {
      "cell_type": "code",
      "source": [
        "c = 27+15j\n",
        "type(c)"
      ],
      "metadata": {
        "colab": {
          "base_uri": "https://localhost:8080/"
        },
        "id": "hr1fmibCg9RW",
        "outputId": "f3b6f485-d375-42cd-87cf-4d2279ee4376"
      },
      "execution_count": null,
      "outputs": [
        {
          "output_type": "execute_result",
          "data": {
            "text/plain": [
              "complex"
            ]
          },
          "metadata": {},
          "execution_count": 97
        }
      ]
    },
    {
      "cell_type": "code",
      "source": [
        "d = 1489579\n",
        "type(d)"
      ],
      "metadata": {
        "colab": {
          "base_uri": "https://localhost:8080/"
        },
        "id": "sQL4bJYAhETI",
        "outputId": "be130fe0-34d9-4689-d8ba-1babbad01a1f"
      },
      "execution_count": null,
      "outputs": [
        {
          "output_type": "execute_result",
          "data": {
            "text/plain": [
              "int"
            ]
          },
          "metadata": {},
          "execution_count": 98
        }
      ]
    },
    {
      "cell_type": "code",
      "source": [
        "a = input()"
      ],
      "metadata": {
        "colab": {
          "base_uri": "https://localhost:8080/"
        },
        "id": "bA_9JW_BhS5k",
        "outputId": "80612dac-885d-48f3-e480-8da1c144b117"
      },
      "execution_count": null,
      "outputs": [
        {
          "name": "stdout",
          "output_type": "stream",
          "text": [
            "Guvi\n"
          ]
        }
      ]
    },
    {
      "cell_type": "code",
      "source": [
        "type(a)"
      ],
      "metadata": {
        "colab": {
          "base_uri": "https://localhost:8080/"
        },
        "id": "xfdYnpk1iwJX",
        "outputId": "2e0e4e1f-146b-4b44-89ef-e0989f125b22"
      },
      "execution_count": null,
      "outputs": [
        {
          "output_type": "execute_result",
          "data": {
            "text/plain": [
              "str"
            ]
          },
          "metadata": {},
          "execution_count": 100
        }
      ]
    },
    {
      "cell_type": "code",
      "source": [
        "b = int(input())"
      ],
      "metadata": {
        "colab": {
          "base_uri": "https://localhost:8080/"
        },
        "id": "xr3W-WjbhoyI",
        "outputId": "f4e8cfc4-910a-48e9-bcd3-b04777ba29bf"
      },
      "execution_count": null,
      "outputs": [
        {
          "name": "stdout",
          "output_type": "stream",
          "text": [
            "159\n"
          ]
        }
      ]
    },
    {
      "cell_type": "code",
      "source": [
        "type(b)"
      ],
      "metadata": {
        "colab": {
          "base_uri": "https://localhost:8080/"
        },
        "id": "rTDJV1jahsTv",
        "outputId": "14686ef9-ba70-4307-ff7e-68734484b3dd"
      },
      "execution_count": null,
      "outputs": [
        {
          "output_type": "execute_result",
          "data": {
            "text/plain": [
              "int"
            ]
          },
          "metadata": {},
          "execution_count": 102
        }
      ]
    },
    {
      "cell_type": "code",
      "source": [
        "# Type conversion"
      ],
      "metadata": {
        "id": "02EKmPaZi3dR"
      },
      "execution_count": null,
      "outputs": []
    },
    {
      "cell_type": "code",
      "source": [
        "float(b)"
      ],
      "metadata": {
        "colab": {
          "base_uri": "https://localhost:8080/"
        },
        "id": "2pz-2la4i70g",
        "outputId": "ffe12a27-3aef-4d39-c5e2-e3cc5c6a2cdc"
      },
      "execution_count": null,
      "outputs": [
        {
          "output_type": "execute_result",
          "data": {
            "text/plain": [
              "159.0"
            ]
          },
          "metadata": {},
          "execution_count": 104
        }
      ]
    },
    {
      "cell_type": "code",
      "source": [
        "str(b)"
      ],
      "metadata": {
        "colab": {
          "base_uri": "https://localhost:8080/",
          "height": 36
        },
        "id": "IwbU5nyEjB5s",
        "outputId": "d3609241-6c6e-4a96-ad7e-f15bea21b96b"
      },
      "execution_count": null,
      "outputs": [
        {
          "output_type": "execute_result",
          "data": {
            "text/plain": [
              "'159'"
            ],
            "application/vnd.google.colaboratory.intrinsic+json": {
              "type": "string"
            }
          },
          "metadata": {},
          "execution_count": 105
        }
      ]
    },
    {
      "cell_type": "code",
      "source": [
        "complex(b)"
      ],
      "metadata": {
        "colab": {
          "base_uri": "https://localhost:8080/"
        },
        "id": "IsuhfOqMjLKt",
        "outputId": "0288a8e2-369e-4b88-9310-c9fc37ab7278"
      },
      "execution_count": null,
      "outputs": [
        {
          "output_type": "execute_result",
          "data": {
            "text/plain": [
              "(159+0j)"
            ]
          },
          "metadata": {},
          "execution_count": 106
        }
      ]
    },
    {
      "cell_type": "code",
      "source": [
        "a"
      ],
      "metadata": {
        "colab": {
          "base_uri": "https://localhost:8080/",
          "height": 36
        },
        "id": "JpGO3ulUjVJq",
        "outputId": "0bba6409-b30c-4582-8862-25ec84ef8d2c"
      },
      "execution_count": null,
      "outputs": [
        {
          "output_type": "execute_result",
          "data": {
            "text/plain": [
              "'Guvi'"
            ],
            "application/vnd.google.colaboratory.intrinsic+json": {
              "type": "string"
            }
          },
          "metadata": {},
          "execution_count": 107
        }
      ]
    },
    {
      "cell_type": "code",
      "source": [
        "int(a)"
      ],
      "metadata": {
        "colab": {
          "base_uri": "https://localhost:8080/",
          "height": 165
        },
        "id": "JR4cwVWRjeDx",
        "outputId": "50374ffa-3681-4557-e719-54d25e1407d8"
      },
      "execution_count": null,
      "outputs": [
        {
          "output_type": "error",
          "ename": "ValueError",
          "evalue": "ignored",
          "traceback": [
            "\u001b[0;31m---------------------------------------------------------------------------\u001b[0m",
            "\u001b[0;31mValueError\u001b[0m                                Traceback (most recent call last)",
            "\u001b[0;32m<ipython-input-108-8b2ab3991dae>\u001b[0m in \u001b[0;36m<module>\u001b[0;34m\u001b[0m\n\u001b[0;32m----> 1\u001b[0;31m \u001b[0mint\u001b[0m\u001b[0;34m(\u001b[0m\u001b[0ma\u001b[0m\u001b[0;34m)\u001b[0m\u001b[0;34m\u001b[0m\u001b[0;34m\u001b[0m\u001b[0m\n\u001b[0m",
            "\u001b[0;31mValueError\u001b[0m: invalid literal for int() with base 10: 'Guvi'"
          ]
        }
      ]
    },
    {
      "cell_type": "code",
      "source": [
        "float(a)"
      ],
      "metadata": {
        "colab": {
          "base_uri": "https://localhost:8080/",
          "height": 165
        },
        "id": "T15PbGiQjkfn",
        "outputId": "81a132bf-9d31-4b5a-c6dd-4e0405f661a9"
      },
      "execution_count": null,
      "outputs": [
        {
          "output_type": "error",
          "ename": "ValueError",
          "evalue": "ignored",
          "traceback": [
            "\u001b[0;31m---------------------------------------------------------------------------\u001b[0m",
            "\u001b[0;31mValueError\u001b[0m                                Traceback (most recent call last)",
            "\u001b[0;32m<ipython-input-109-6c8cade3f87c>\u001b[0m in \u001b[0;36m<module>\u001b[0;34m\u001b[0m\n\u001b[0;32m----> 1\u001b[0;31m \u001b[0mfloat\u001b[0m\u001b[0;34m(\u001b[0m\u001b[0ma\u001b[0m\u001b[0;34m)\u001b[0m\u001b[0;34m\u001b[0m\u001b[0;34m\u001b[0m\u001b[0m\n\u001b[0m",
            "\u001b[0;31mValueError\u001b[0m: could not convert string to float: 'Guvi'"
          ]
        }
      ]
    },
    {
      "cell_type": "code",
      "source": [
        "print(complex(a))"
      ],
      "metadata": {
        "colab": {
          "base_uri": "https://localhost:8080/",
          "height": 182
        },
        "id": "Y01HI2UajpbJ",
        "outputId": "77b4a118-0f12-4359-ad92-310361c50427"
      },
      "execution_count": null,
      "outputs": [
        {
          "output_type": "error",
          "ename": "ValueError",
          "evalue": "ignored",
          "traceback": [
            "\u001b[0;31m---------------------------------------------------------------------------\u001b[0m",
            "\u001b[0;31mValueError\u001b[0m                                Traceback (most recent call last)",
            "\u001b[0;32m<ipython-input-112-062f1aa5658c>\u001b[0m in \u001b[0;36m<module>\u001b[0;34m\u001b[0m\n\u001b[1;32m      1\u001b[0m \u001b[0;31m# complex(a)\u001b[0m\u001b[0;34m\u001b[0m\u001b[0;34m\u001b[0m\u001b[0;34m\u001b[0m\u001b[0m\n\u001b[0;32m----> 2\u001b[0;31m \u001b[0mprint\u001b[0m\u001b[0;34m(\u001b[0m\u001b[0mcomplex\u001b[0m\u001b[0;34m(\u001b[0m\u001b[0ma\u001b[0m\u001b[0;34m)\u001b[0m\u001b[0;34m)\u001b[0m\u001b[0;34m\u001b[0m\u001b[0;34m\u001b[0m\u001b[0m\n\u001b[0m",
            "\u001b[0;31mValueError\u001b[0m: complex() arg is a malformed string"
          ]
        }
      ]
    },
    {
      "cell_type": "code",
      "source": [
        "a,b,c = map(int,input().split())"
      ],
      "metadata": {
        "colab": {
          "base_uri": "https://localhost:8080/"
        },
        "id": "3HuvR_N2kI1k",
        "outputId": "f88be498-0c17-4d90-d887-964523d291c5"
      },
      "execution_count": null,
      "outputs": [
        {
          "name": "stdout",
          "output_type": "stream",
          "text": [
            "12 14 13\n"
          ]
        }
      ]
    },
    {
      "cell_type": "code",
      "source": [
        "a"
      ],
      "metadata": {
        "colab": {
          "base_uri": "https://localhost:8080/"
        },
        "id": "kmC5sbQkkiHG",
        "outputId": "9eff61e9-95a0-4ba2-e861-544607fa4e66"
      },
      "execution_count": null,
      "outputs": [
        {
          "output_type": "execute_result",
          "data": {
            "text/plain": [
              "12"
            ]
          },
          "metadata": {},
          "execution_count": 117
        }
      ]
    },
    {
      "cell_type": "code",
      "source": [
        "b"
      ],
      "metadata": {
        "colab": {
          "base_uri": "https://localhost:8080/"
        },
        "id": "LZeCfCnvkmie",
        "outputId": "4d538dde-35f2-4b8a-aa21-5b0697a65e2d"
      },
      "execution_count": null,
      "outputs": [
        {
          "output_type": "execute_result",
          "data": {
            "text/plain": [
              "27"
            ]
          },
          "metadata": {},
          "execution_count": 118
        }
      ]
    },
    {
      "cell_type": "code",
      "source": [
        "# Task 2\n",
        "# assign three variable get the input as a string from the user, check the type of it, do type conversion int and float"
      ],
      "metadata": {
        "id": "eUykmsoEjudW"
      },
      "execution_count": null,
      "outputs": []
    },
    {
      "cell_type": "code",
      "source": [
        "# Python operators\n",
        "# Arithmetic operators\n",
        "# comparison operator\n",
        "# assignment operator\n",
        "# logical operator\n",
        "# membership operator"
      ],
      "metadata": {
        "id": "BkqfvJVqm4ts"
      },
      "execution_count": null,
      "outputs": []
    },
    {
      "cell_type": "code",
      "source": [
        "# Arithmetic operator\n",
        "# +,-,/,*,**(power)"
      ],
      "metadata": {
        "id": "n8vjhg-ZoP5T"
      },
      "execution_count": null,
      "outputs": []
    },
    {
      "cell_type": "code",
      "source": [
        "a = 10\n",
        "b = 20"
      ],
      "metadata": {
        "id": "Dzf2_0swoYcB"
      },
      "execution_count": null,
      "outputs": []
    },
    {
      "cell_type": "code",
      "source": [
        "c = a+b\n",
        "print(c)"
      ],
      "metadata": {
        "colab": {
          "base_uri": "https://localhost:8080/"
        },
        "id": "GVgjyuWfobyf",
        "outputId": "70b4948f-65f4-4fbd-9a53-6d264d513938"
      },
      "execution_count": null,
      "outputs": [
        {
          "output_type": "stream",
          "name": "stdout",
          "text": [
            "30\n"
          ]
        }
      ]
    },
    {
      "cell_type": "code",
      "source": [
        "a+b"
      ],
      "metadata": {
        "colab": {
          "base_uri": "https://localhost:8080/"
        },
        "id": "jxqf16ugoeZg",
        "outputId": "e38cede2-ba3a-4268-ccf2-4288839b1ec1"
      },
      "execution_count": null,
      "outputs": [
        {
          "output_type": "execute_result",
          "data": {
            "text/plain": [
              "30"
            ]
          },
          "metadata": {},
          "execution_count": 127
        }
      ]
    },
    {
      "cell_type": "code",
      "source": [
        "print(a+b)"
      ],
      "metadata": {
        "colab": {
          "base_uri": "https://localhost:8080/"
        },
        "id": "i_VxGcEcohwR",
        "outputId": "c2632787-a910-49d3-fd62-44b9e81e0987"
      },
      "execution_count": null,
      "outputs": [
        {
          "output_type": "stream",
          "name": "stdout",
          "text": [
            "30\n"
          ]
        }
      ]
    },
    {
      "cell_type": "code",
      "source": [
        "b-a"
      ],
      "metadata": {
        "colab": {
          "base_uri": "https://localhost:8080/"
        },
        "id": "-GpjHtm0oj1W",
        "outputId": "94412e89-a92d-47f0-e755-4d6a3e7d85ee"
      },
      "execution_count": null,
      "outputs": [
        {
          "output_type": "execute_result",
          "data": {
            "text/plain": [
              "10"
            ]
          },
          "metadata": {},
          "execution_count": 129
        }
      ]
    },
    {
      "cell_type": "code",
      "source": [
        "a-b"
      ],
      "metadata": {
        "colab": {
          "base_uri": "https://localhost:8080/"
        },
        "id": "ZyvC67qtouAk",
        "outputId": "65f184a8-2765-4b5d-f71d-2549ac5884d9"
      },
      "execution_count": null,
      "outputs": [
        {
          "output_type": "execute_result",
          "data": {
            "text/plain": [
              "-10"
            ]
          },
          "metadata": {},
          "execution_count": 130
        }
      ]
    },
    {
      "cell_type": "code",
      "source": [
        "a*b"
      ],
      "metadata": {
        "colab": {
          "base_uri": "https://localhost:8080/"
        },
        "id": "PWGnS-TQovuE",
        "outputId": "a6595dc0-ba23-4612-c9e8-daa4a0c5d0a3"
      },
      "execution_count": null,
      "outputs": [
        {
          "output_type": "execute_result",
          "data": {
            "text/plain": [
              "200"
            ]
          },
          "metadata": {},
          "execution_count": 131
        }
      ]
    },
    {
      "cell_type": "code",
      "source": [
        "# floor division --> // (quotient part)\n",
        "# modulo division --> % (remainder part)"
      ],
      "metadata": {
        "id": "PJdalz62ozNn"
      },
      "execution_count": null,
      "outputs": []
    },
    {
      "cell_type": "code",
      "source": [
        "b/a"
      ],
      "metadata": {
        "colab": {
          "base_uri": "https://localhost:8080/"
        },
        "id": "7QJWALcFo-cC",
        "outputId": "7368b618-bb7c-4fe3-c537-720b77dc2e19"
      },
      "execution_count": null,
      "outputs": [
        {
          "output_type": "execute_result",
          "data": {
            "text/plain": [
              "2.0"
            ]
          },
          "metadata": {},
          "execution_count": 133
        }
      ]
    },
    {
      "cell_type": "code",
      "source": [
        "b//a"
      ],
      "metadata": {
        "colab": {
          "base_uri": "https://localhost:8080/"
        },
        "id": "n10K6VJmpBzR",
        "outputId": "6088611b-5f8c-49c2-aa1e-709ebe5d533a"
      },
      "execution_count": null,
      "outputs": [
        {
          "output_type": "execute_result",
          "data": {
            "text/plain": [
              "2"
            ]
          },
          "metadata": {},
          "execution_count": 134
        }
      ]
    },
    {
      "cell_type": "code",
      "source": [
        "b%a"
      ],
      "metadata": {
        "colab": {
          "base_uri": "https://localhost:8080/"
        },
        "id": "yz-4GdZ_pOrv",
        "outputId": "43af7042-e439-4280-d258-ed14badb3161"
      },
      "execution_count": null,
      "outputs": [
        {
          "output_type": "execute_result",
          "data": {
            "text/plain": [
              "0"
            ]
          },
          "metadata": {},
          "execution_count": 135
        }
      ]
    },
    {
      "cell_type": "code",
      "source": [
        "# ** power"
      ],
      "metadata": {
        "id": "m6Er_nGspRM5"
      },
      "execution_count": null,
      "outputs": []
    },
    {
      "cell_type": "code",
      "source": [
        "c = 10\n",
        "d = 5"
      ],
      "metadata": {
        "id": "h9BdnBYLpX1W"
      },
      "execution_count": null,
      "outputs": []
    },
    {
      "cell_type": "code",
      "source": [
        "c**d"
      ],
      "metadata": {
        "colab": {
          "base_uri": "https://localhost:8080/"
        },
        "id": "RZVZ5h97pZ0H",
        "outputId": "7f4a3151-c418-4200-a45e-2344eefda759"
      },
      "execution_count": null,
      "outputs": [
        {
          "output_type": "execute_result",
          "data": {
            "text/plain": [
              "100000"
            ]
          },
          "metadata": {},
          "execution_count": 138
        }
      ]
    },
    {
      "cell_type": "code",
      "source": [
        "# d = 144\n",
        "# e = 12\n",
        "# do the arithmetic operations"
      ],
      "metadata": {
        "id": "MDWvAyyUpeoK"
      },
      "execution_count": null,
      "outputs": []
    },
    {
      "cell_type": "code",
      "source": [
        "# Comparison operators\n",
        "# >,<,>=,<=,!=,=="
      ],
      "metadata": {
        "id": "IVnIw8gbpoE8"
      },
      "execution_count": null,
      "outputs": []
    },
    {
      "cell_type": "code",
      "source": [
        "a = 10\n",
        "b = 9"
      ],
      "metadata": {
        "id": "puXsDUtHqnTD"
      },
      "execution_count": null,
      "outputs": []
    },
    {
      "cell_type": "code",
      "source": [
        "# returns the output in the boolean statement(true/false)"
      ],
      "metadata": {
        "id": "m77fNl-9qq6z"
      },
      "execution_count": null,
      "outputs": []
    },
    {
      "cell_type": "code",
      "source": [
        "a>b"
      ],
      "metadata": {
        "colab": {
          "base_uri": "https://localhost:8080/"
        },
        "id": "BpzlPvyxqxVb",
        "outputId": "2ee80f12-27fb-4839-c225-05e060198b63"
      },
      "execution_count": null,
      "outputs": [
        {
          "output_type": "execute_result",
          "data": {
            "text/plain": [
              "True"
            ]
          },
          "metadata": {},
          "execution_count": 144
        }
      ]
    },
    {
      "cell_type": "code",
      "source": [
        "b>a"
      ],
      "metadata": {
        "colab": {
          "base_uri": "https://localhost:8080/"
        },
        "id": "n-4SVjepq5Ma",
        "outputId": "5d9fd805-31b7-4a03-e6e6-eac044d9cc55"
      },
      "execution_count": null,
      "outputs": [
        {
          "output_type": "execute_result",
          "data": {
            "text/plain": [
              "False"
            ]
          },
          "metadata": {},
          "execution_count": 145
        }
      ]
    },
    {
      "cell_type": "code",
      "source": [
        "a<b"
      ],
      "metadata": {
        "colab": {
          "base_uri": "https://localhost:8080/"
        },
        "id": "L5pJZoaKq7Wm",
        "outputId": "3b2886ff-8d03-4f8a-ab45-47b792e82561"
      },
      "execution_count": null,
      "outputs": [
        {
          "output_type": "execute_result",
          "data": {
            "text/plain": [
              "False"
            ]
          },
          "metadata": {},
          "execution_count": 146
        }
      ]
    },
    {
      "cell_type": "code",
      "source": [
        "a<=b"
      ],
      "metadata": {
        "colab": {
          "base_uri": "https://localhost:8080/"
        },
        "id": "CgqlStNCq8o3",
        "outputId": "1bba6892-a861-4e09-f554-b98400e51186"
      },
      "execution_count": null,
      "outputs": [
        {
          "output_type": "execute_result",
          "data": {
            "text/plain": [
              "False"
            ]
          },
          "metadata": {},
          "execution_count": 147
        }
      ]
    },
    {
      "cell_type": "code",
      "source": [
        "a>=b"
      ],
      "metadata": {
        "colab": {
          "base_uri": "https://localhost:8080/"
        },
        "id": "gcHW5-Eiq_q-",
        "outputId": "427dede6-9598-498b-98d4-6267156ea106"
      },
      "execution_count": null,
      "outputs": [
        {
          "output_type": "execute_result",
          "data": {
            "text/plain": [
              "True"
            ]
          },
          "metadata": {},
          "execution_count": 148
        }
      ]
    },
    {
      "cell_type": "code",
      "source": [
        "a==b"
      ],
      "metadata": {
        "colab": {
          "base_uri": "https://localhost:8080/"
        },
        "id": "0MMcUYturCGC",
        "outputId": "0b1eca4c-1cdd-4a65-823f-c8d760fd2168"
      },
      "execution_count": null,
      "outputs": [
        {
          "output_type": "execute_result",
          "data": {
            "text/plain": [
              "False"
            ]
          },
          "metadata": {},
          "execution_count": 149
        }
      ]
    },
    {
      "cell_type": "code",
      "source": [
        "a!=b"
      ],
      "metadata": {
        "colab": {
          "base_uri": "https://localhost:8080/"
        },
        "id": "dPO-56BCrQrz",
        "outputId": "1d135be8-e50d-425b-b9ae-557f360f52c8"
      },
      "execution_count": null,
      "outputs": [
        {
          "output_type": "execute_result",
          "data": {
            "text/plain": [
              "True"
            ]
          },
          "metadata": {},
          "execution_count": 150
        }
      ]
    },
    {
      "cell_type": "code",
      "source": [
        "# assignment operators\n",
        "# +=,-=,*=,/="
      ],
      "metadata": {
        "id": "t1HpPC_irVw5"
      },
      "execution_count": null,
      "outputs": []
    },
    {
      "cell_type": "code",
      "source": [
        "x = 10"
      ],
      "metadata": {
        "id": "TMcRHrkMrcIi"
      },
      "execution_count": null,
      "outputs": []
    },
    {
      "cell_type": "code",
      "source": [
        "x+=4"
      ],
      "metadata": {
        "id": "UeWklAmkrk_d"
      },
      "execution_count": null,
      "outputs": []
    },
    {
      "cell_type": "code",
      "source": [
        "x"
      ],
      "metadata": {
        "colab": {
          "base_uri": "https://localhost:8080/"
        },
        "id": "foTZLry7rzOK",
        "outputId": "adfc99e9-f29a-457f-dc34-4ac21e5e1ba3"
      },
      "execution_count": null,
      "outputs": [
        {
          "output_type": "execute_result",
          "data": {
            "text/plain": [
              "14"
            ]
          },
          "metadata": {},
          "execution_count": 156
        }
      ]
    },
    {
      "cell_type": "code",
      "source": [
        "x-=2"
      ],
      "metadata": {
        "id": "DWfU1q2_r05x"
      },
      "execution_count": null,
      "outputs": []
    },
    {
      "cell_type": "code",
      "source": [
        "x"
      ],
      "metadata": {
        "colab": {
          "base_uri": "https://localhost:8080/"
        },
        "id": "_XUwC4VXsJrj",
        "outputId": "9ceaba8d-9bd9-49e8-a3f0-d5e364dd5517"
      },
      "execution_count": null,
      "outputs": [
        {
          "output_type": "execute_result",
          "data": {
            "text/plain": [
              "12"
            ]
          },
          "metadata": {},
          "execution_count": 158
        }
      ]
    },
    {
      "cell_type": "code",
      "source": [
        "x*=2"
      ],
      "metadata": {
        "id": "VDB-xIkfsK3Q"
      },
      "execution_count": null,
      "outputs": []
    },
    {
      "cell_type": "code",
      "source": [
        "x"
      ],
      "metadata": {
        "colab": {
          "base_uri": "https://localhost:8080/"
        },
        "id": "4U1EcDgAsRE7",
        "outputId": "37e51555-ca9d-4c62-99df-d5644ddf6003"
      },
      "execution_count": null,
      "outputs": [
        {
          "output_type": "execute_result",
          "data": {
            "text/plain": [
              "24"
            ]
          },
          "metadata": {},
          "execution_count": 160
        }
      ]
    },
    {
      "cell_type": "code",
      "source": [
        "x/=12"
      ],
      "metadata": {
        "id": "Pgo_20zisSJY"
      },
      "execution_count": null,
      "outputs": []
    },
    {
      "cell_type": "code",
      "source": [
        "x"
      ],
      "metadata": {
        "colab": {
          "base_uri": "https://localhost:8080/"
        },
        "id": "hvCJT0G-sZfr",
        "outputId": "9d2bcbda-cf91-402b-9276-af4e221ba713"
      },
      "execution_count": null,
      "outputs": [
        {
          "output_type": "execute_result",
          "data": {
            "text/plain": [
              "2.0"
            ]
          },
          "metadata": {},
          "execution_count": 162
        }
      ]
    },
    {
      "cell_type": "code",
      "source": [
        "# Logical operators\n",
        "# and --> both the condition should satisfy \n",
        "# or --> either one of the condition should satisfy \n",
        "# not --> converts true to false and false to true"
      ],
      "metadata": {
        "id": "7REhv81Hsajy"
      },
      "execution_count": null,
      "outputs": []
    },
    {
      "cell_type": "code",
      "source": [
        "x = 10"
      ],
      "metadata": {
        "id": "zmG-njpdshwz"
      },
      "execution_count": null,
      "outputs": []
    },
    {
      "cell_type": "code",
      "source": [
        "x>15 and x<=10"
      ],
      "metadata": {
        "colab": {
          "base_uri": "https://localhost:8080/"
        },
        "id": "Usp1nBAVss1x",
        "outputId": "60c48165-035e-431f-9cbb-5cf2a235a2c4"
      },
      "execution_count": null,
      "outputs": [
        {
          "output_type": "execute_result",
          "data": {
            "text/plain": [
              "False"
            ]
          },
          "metadata": {},
          "execution_count": 167
        }
      ]
    },
    {
      "cell_type": "code",
      "source": [
        "x>15 or x<=10"
      ],
      "metadata": {
        "colab": {
          "base_uri": "https://localhost:8080/"
        },
        "id": "bMQY8N0xsxuO",
        "outputId": "93aa1e8d-9397-4a98-b20d-2ec1abd84739"
      },
      "execution_count": null,
      "outputs": [
        {
          "output_type": "execute_result",
          "data": {
            "text/plain": [
              "True"
            ]
          },
          "metadata": {},
          "execution_count": 169
        }
      ]
    },
    {
      "cell_type": "code",
      "source": [
        "not(x>15 or x<=10)"
      ],
      "metadata": {
        "colab": {
          "base_uri": "https://localhost:8080/"
        },
        "id": "OsMKLmsMtVuE",
        "outputId": "a9ae4969-df5e-4d94-affc-608e152e7b8a"
      },
      "execution_count": null,
      "outputs": [
        {
          "output_type": "execute_result",
          "data": {
            "text/plain": [
              "False"
            ]
          },
          "metadata": {},
          "execution_count": 171
        }
      ]
    },
    {
      "cell_type": "code",
      "source": [
        "# Membership operator\n",
        "# in\n",
        "# not in"
      ],
      "metadata": {
        "id": "UCUOyjmQtiz_"
      },
      "execution_count": null,
      "outputs": []
    },
    {
      "cell_type": "code",
      "source": [
        "c = 'Guvi geek'"
      ],
      "metadata": {
        "id": "HPyoV2aguOOn"
      },
      "execution_count": null,
      "outputs": []
    },
    {
      "cell_type": "code",
      "source": [
        "('G' in c) or ('n' in c)"
      ],
      "metadata": {
        "colab": {
          "base_uri": "https://localhost:8080/"
        },
        "id": "TeM9MeeouULU",
        "outputId": "ff8f76e4-d635-43cb-fd3f-ea8aaabda35a"
      },
      "execution_count": null,
      "outputs": [
        {
          "output_type": "execute_result",
          "data": {
            "text/plain": [
              "True"
            ]
          },
          "metadata": {},
          "execution_count": 189
        }
      ]
    },
    {
      "cell_type": "code",
      "source": [
        "'g' in c"
      ],
      "metadata": {
        "colab": {
          "base_uri": "https://localhost:8080/"
        },
        "id": "hvhK5AZmyC_F",
        "outputId": "4f8138c6-9e6b-40b9-9d3a-635743f1045e"
      },
      "execution_count": null,
      "outputs": [
        {
          "output_type": "execute_result",
          "data": {
            "text/plain": [
              "True"
            ]
          },
          "metadata": {},
          "execution_count": 186
        }
      ]
    },
    {
      "cell_type": "code",
      "source": [
        "'N' in c"
      ],
      "metadata": {
        "colab": {
          "base_uri": "https://localhost:8080/"
        },
        "id": "mE0fwGixuen4",
        "outputId": "a00fba96-9e11-40ea-98fc-d934e793cdac"
      },
      "execution_count": null,
      "outputs": [
        {
          "output_type": "execute_result",
          "data": {
            "text/plain": [
              "False"
            ]
          },
          "metadata": {},
          "execution_count": 176
        }
      ]
    },
    {
      "cell_type": "code",
      "source": [
        "'n' not in c"
      ],
      "metadata": {
        "colab": {
          "base_uri": "https://localhost:8080/"
        },
        "id": "Re9TFNp0uhW1",
        "outputId": "6e6e6351-a543-4f37-efc3-e92e846f59d1"
      },
      "execution_count": null,
      "outputs": [
        {
          "output_type": "execute_result",
          "data": {
            "text/plain": [
              "False"
            ]
          },
          "metadata": {},
          "execution_count": 177
        }
      ]
    },
    {
      "cell_type": "code",
      "source": [
        "'c' in c"
      ],
      "metadata": {
        "colab": {
          "base_uri": "https://localhost:8080/"
        },
        "id": "MSJ1S5NKu1iT",
        "outputId": "4c92e886-022f-4447-d9ed-4bee34523d38"
      },
      "execution_count": null,
      "outputs": [
        {
          "output_type": "execute_result",
          "data": {
            "text/plain": [
              "False"
            ]
          },
          "metadata": {},
          "execution_count": 178
        }
      ]
    },
    {
      "cell_type": "code",
      "source": [
        "# comparison operators\n",
        "# j = 155\n",
        "# a = 96\n",
        "# do the comparison operators"
      ],
      "metadata": {
        "id": "pgrcRcRRu5fE"
      },
      "execution_count": null,
      "outputs": []
    },
    {
      "cell_type": "code",
      "source": [
        "# assignment operators\n",
        "m = 25\n",
        "# do the assignment operators\n",
        "m*=5"
      ],
      "metadata": {
        "id": "hwXTYaJhvHaJ"
      },
      "execution_count": null,
      "outputs": []
    },
    {
      "cell_type": "code",
      "source": [
        "print(m)"
      ],
      "metadata": {
        "colab": {
          "base_uri": "https://localhost:8080/"
        },
        "id": "RYaFvIrn0Cge",
        "outputId": "8e29a560-0287-408e-b2c2-e4698680306a"
      },
      "execution_count": null,
      "outputs": [
        {
          "output_type": "stream",
          "name": "stdout",
          "text": [
            "125\n"
          ]
        }
      ]
    },
    {
      "cell_type": "code",
      "source": [
        "# logical operators\n",
        "# s = 96\n",
        "# z = 38\n",
        "# do the logical operators"
      ],
      "metadata": {
        "id": "mTOe5iwhvSMY"
      },
      "execution_count": null,
      "outputs": []
    },
    {
      "cell_type": "code",
      "source": [
        "# Data structures in Python\n",
        "# List\n",
        "# tuple\n",
        "# set \n",
        "# dictionary"
      ],
      "metadata": {
        "id": "svzI7n8uvmG4"
      },
      "execution_count": null,
      "outputs": []
    },
    {
      "cell_type": "code",
      "source": [
        "# List\n",
        "# represented by []\n",
        "# allow duplicate elements\n",
        "# mutable --> append, change the element and delete the element\n"
      ],
      "metadata": {
        "id": "s7obgFYUjMgQ"
      },
      "execution_count": null,
      "outputs": []
    },
    {
      "cell_type": "code",
      "source": [
        "a = [15,12,17,19,'Cavy','Jana',123.27025]"
      ],
      "metadata": {
        "id": "7JgdRik3jkFR"
      },
      "execution_count": null,
      "outputs": []
    },
    {
      "cell_type": "code",
      "source": [
        "a"
      ],
      "metadata": {
        "colab": {
          "base_uri": "https://localhost:8080/"
        },
        "id": "gOnOfQ5Qjw5l",
        "outputId": "fcf19de9-b5c5-4e58-9b46-640dadd21004"
      },
      "execution_count": null,
      "outputs": [
        {
          "output_type": "execute_result",
          "data": {
            "text/plain": [
              "[15, 12, 17, 19, 'Cavy', 'Jana', 123.27025]"
            ]
          },
          "metadata": {},
          "execution_count": 4
        }
      ]
    },
    {
      "cell_type": "code",
      "source": [
        "# accessing the element in the list\n",
        "# indexing\n",
        "# slicing"
      ],
      "metadata": {
        "id": "2aUsBqx-jx1A"
      },
      "execution_count": null,
      "outputs": []
    },
    {
      "cell_type": "code",
      "source": [
        "# Indexing\n",
        "a[3]"
      ],
      "metadata": {
        "colab": {
          "base_uri": "https://localhost:8080/"
        },
        "id": "UsvJKkQpj7_T",
        "outputId": "6c0096cf-03b1-43ab-a5c7-0783b00d1635"
      },
      "execution_count": null,
      "outputs": [
        {
          "output_type": "execute_result",
          "data": {
            "text/plain": [
              "19"
            ]
          },
          "metadata": {},
          "execution_count": 7
        }
      ]
    },
    {
      "cell_type": "code",
      "source": [
        "a[6]"
      ],
      "metadata": {
        "colab": {
          "base_uri": "https://localhost:8080/"
        },
        "id": "eAxxpkiPkShY",
        "outputId": "5b30a228-31d5-4024-a0cc-5090e1d71e44"
      },
      "execution_count": null,
      "outputs": [
        {
          "output_type": "execute_result",
          "data": {
            "text/plain": [
              "123.27025"
            ]
          },
          "metadata": {},
          "execution_count": 8
        }
      ]
    },
    {
      "cell_type": "code",
      "source": [
        "# Negative indexing\n",
        "a[-1]"
      ],
      "metadata": {
        "colab": {
          "base_uri": "https://localhost:8080/"
        },
        "id": "iGWXSJkFkYdm",
        "outputId": "b1c54edd-ecdb-461f-fc63-28273f630186"
      },
      "execution_count": null,
      "outputs": [
        {
          "output_type": "execute_result",
          "data": {
            "text/plain": [
              "123.27025"
            ]
          },
          "metadata": {},
          "execution_count": 9
        }
      ]
    },
    {
      "cell_type": "code",
      "source": [
        "a[-3]"
      ],
      "metadata": {
        "colab": {
          "base_uri": "https://localhost:8080/",
          "height": 36
        },
        "id": "RToGKnIkksbw",
        "outputId": "032760c1-edc6-4152-daef-2040e834a9d2"
      },
      "execution_count": null,
      "outputs": [
        {
          "output_type": "execute_result",
          "data": {
            "text/plain": [
              "'Cavy'"
            ],
            "application/vnd.google.colaboratory.intrinsic+json": {
              "type": "string"
            }
          },
          "metadata": {},
          "execution_count": 10
        }
      ]
    },
    {
      "cell_type": "code",
      "source": [
        "# slicing\n",
        "# startvalue:endvalue:step"
      ],
      "metadata": {
        "id": "P4Gvr5V6kwTU"
      },
      "execution_count": null,
      "outputs": []
    },
    {
      "cell_type": "code",
      "source": [
        "a"
      ],
      "metadata": {
        "colab": {
          "base_uri": "https://localhost:8080/"
        },
        "id": "sqGYzU_Rk5W0",
        "outputId": "76b860a0-0381-4508-d763-b85374272000"
      },
      "execution_count": null,
      "outputs": [
        {
          "output_type": "execute_result",
          "data": {
            "text/plain": [
              "[15, 12, 17, 19, 'Cavy', 'Jana', 123.27025]"
            ]
          },
          "metadata": {},
          "execution_count": 12
        }
      ]
    },
    {
      "cell_type": "code",
      "source": [
        "a[0:4]"
      ],
      "metadata": {
        "colab": {
          "base_uri": "https://localhost:8080/"
        },
        "id": "LVhpLCvMk6sk",
        "outputId": "8e160e95-0941-4841-b06e-be6d179be047"
      },
      "execution_count": null,
      "outputs": [
        {
          "output_type": "execute_result",
          "data": {
            "text/plain": [
              "[15, 12, 17, 19]"
            ]
          },
          "metadata": {},
          "execution_count": 14
        }
      ]
    },
    {
      "cell_type": "code",
      "source": [
        "a[1:5]"
      ],
      "metadata": {
        "colab": {
          "base_uri": "https://localhost:8080/"
        },
        "id": "oWWk7x2rlNgI",
        "outputId": "194ea2c5-dd20-415c-8f7a-6d0259f84892"
      },
      "execution_count": null,
      "outputs": [
        {
          "output_type": "execute_result",
          "data": {
            "text/plain": [
              "[12, 17, 19, 'Cavy']"
            ]
          },
          "metadata": {},
          "execution_count": 15
        }
      ]
    },
    {
      "cell_type": "code",
      "source": [
        "a[0:4:1]"
      ],
      "metadata": {
        "colab": {
          "base_uri": "https://localhost:8080/"
        },
        "id": "MdyNejjGlnIK",
        "outputId": "b54eb7e8-754b-457d-c011-0c48f15376f3"
      },
      "execution_count": null,
      "outputs": [
        {
          "output_type": "execute_result",
          "data": {
            "text/plain": [
              "[15, 12, 17, 19]"
            ]
          },
          "metadata": {},
          "execution_count": 17
        }
      ]
    },
    {
      "cell_type": "code",
      "source": [
        "a[0:4:2]"
      ],
      "metadata": {
        "colab": {
          "base_uri": "https://localhost:8080/"
        },
        "id": "KrlASzKQl-ni",
        "outputId": "a7eb5240-e113-46d1-d370-2db1f419dd4e"
      },
      "execution_count": null,
      "outputs": [
        {
          "output_type": "execute_result",
          "data": {
            "text/plain": [
              "[15, 17]"
            ]
          },
          "metadata": {},
          "execution_count": 18
        }
      ]
    },
    {
      "cell_type": "code",
      "source": [
        "a[0:4:3]"
      ],
      "metadata": {
        "colab": {
          "base_uri": "https://localhost:8080/"
        },
        "id": "1rKC9MZbmYez",
        "outputId": "b875cf29-c0b5-435d-bd58-f0dbe0d580b8"
      },
      "execution_count": null,
      "outputs": [
        {
          "output_type": "execute_result",
          "data": {
            "text/plain": [
              "[15, 19]"
            ]
          },
          "metadata": {},
          "execution_count": 19
        }
      ]
    },
    {
      "cell_type": "code",
      "source": [
        "a"
      ],
      "metadata": {
        "colab": {
          "base_uri": "https://localhost:8080/"
        },
        "id": "uWWu0AQUmk_w",
        "outputId": "d9b1da54-4624-48d2-8ee5-655ad6927574"
      },
      "execution_count": null,
      "outputs": [
        {
          "output_type": "execute_result",
          "data": {
            "text/plain": [
              "[15, 12, 17, 19, 'Cavy', 'Jana', 123.27025]"
            ]
          },
          "metadata": {},
          "execution_count": 20
        }
      ]
    },
    {
      "cell_type": "code",
      "source": [
        "a[3] = 'Python'"
      ],
      "metadata": {
        "id": "JbA8OedRmwGw"
      },
      "execution_count": null,
      "outputs": []
    },
    {
      "cell_type": "code",
      "source": [
        "a"
      ],
      "metadata": {
        "colab": {
          "base_uri": "https://localhost:8080/"
        },
        "id": "KIGGqvc_m6S7",
        "outputId": "2c8e68b5-e07e-4b1e-b576-2b09a3f0ad74"
      },
      "execution_count": null,
      "outputs": [
        {
          "output_type": "execute_result",
          "data": {
            "text/plain": [
              "[15, 12, 17, 'Python', 'Cavy', 'Jana', 123.27025]"
            ]
          },
          "metadata": {},
          "execution_count": 22
        }
      ]
    },
    {
      "cell_type": "code",
      "source": [
        "a.append('Machine learning')"
      ],
      "metadata": {
        "id": "yllurFPXm7BM"
      },
      "execution_count": null,
      "outputs": []
    },
    {
      "cell_type": "code",
      "source": [
        "a"
      ],
      "metadata": {
        "colab": {
          "base_uri": "https://localhost:8080/"
        },
        "id": "zNoiXd-AnTbI",
        "outputId": "5f9a3448-2555-4880-ff49-21f920dcb595"
      },
      "execution_count": null,
      "outputs": [
        {
          "output_type": "execute_result",
          "data": {
            "text/plain": [
              "[15, 12, 17, 'Python', 'Cavy', 'Jana', 123.27025, 'Machine learning']"
            ]
          },
          "metadata": {},
          "execution_count": 24
        }
      ]
    },
    {
      "cell_type": "code",
      "source": [
        "a.insert(5,'World')"
      ],
      "metadata": {
        "id": "OGA42adinU2D"
      },
      "execution_count": null,
      "outputs": []
    },
    {
      "cell_type": "code",
      "source": [
        "a"
      ],
      "metadata": {
        "colab": {
          "base_uri": "https://localhost:8080/"
        },
        "id": "4ED7SAE-nkwX",
        "outputId": "82dfc821-cad5-4f2c-d994-da584c2c19da"
      },
      "execution_count": null,
      "outputs": [
        {
          "output_type": "execute_result",
          "data": {
            "text/plain": [
              "[15, 12, 17, 'Python', 'Cavy', 'World', 'Jana', 123.27025, 'Machine learning']"
            ]
          },
          "metadata": {},
          "execution_count": 26
        }
      ]
    },
    {
      "cell_type": "code",
      "source": [
        "a.extend(['Game','Mysql'])"
      ],
      "metadata": {
        "id": "Rle8O2FInlw7"
      },
      "execution_count": null,
      "outputs": []
    },
    {
      "cell_type": "code",
      "source": [
        "a"
      ],
      "metadata": {
        "colab": {
          "base_uri": "https://localhost:8080/"
        },
        "id": "-Of0_FAmn7Zm",
        "outputId": "e71f065d-3b28-485d-d73b-74e091d8a668"
      },
      "execution_count": null,
      "outputs": [
        {
          "output_type": "execute_result",
          "data": {
            "text/plain": [
              "[15,\n",
              " 12,\n",
              " 17,\n",
              " 'Python',\n",
              " 'Cavy',\n",
              " 'World',\n",
              " 'Jana',\n",
              " 123.27025,\n",
              " 'Machine learning',\n",
              " 'Game',\n",
              " 'Mysql']"
            ]
          },
          "metadata": {},
          "execution_count": 28
        }
      ]
    },
    {
      "cell_type": "code",
      "source": [
        "del a[-2]"
      ],
      "metadata": {
        "id": "rdcjdw7Jn794"
      },
      "execution_count": null,
      "outputs": []
    },
    {
      "cell_type": "code",
      "source": [
        "a"
      ],
      "metadata": {
        "colab": {
          "base_uri": "https://localhost:8080/"
        },
        "id": "-XlUx6udoIwF",
        "outputId": "28441089-d1ab-4d46-d9cb-25ba9f3dd935"
      },
      "execution_count": null,
      "outputs": [
        {
          "output_type": "execute_result",
          "data": {
            "text/plain": [
              "[15,\n",
              " 12,\n",
              " 17,\n",
              " 'Python',\n",
              " 'Cavy',\n",
              " 'World',\n",
              " 'Jana',\n",
              " 123.27025,\n",
              " 'Machine learning',\n",
              " 'Mysql']"
            ]
          },
          "metadata": {},
          "execution_count": 30
        }
      ]
    },
    {
      "cell_type": "code",
      "source": [
        "# Task\n",
        "# Create a list of name, age, profession,hobby,aim\n",
        "# add the elements software yu like, best friend\n",
        "# inbetween age and profession add dob\n",
        "# replace the value of software to father name\n",
        "# delete the last element\n",
        "# get the index of hobby and aim\n",
        "# do the slicing from dob to the end of the list with step 2"
      ],
      "metadata": {
        "id": "msJs_GaJoLbx"
      },
      "execution_count": null,
      "outputs": []
    },
    {
      "cell_type": "code",
      "source": [
        "# Tuple \n",
        "# represented by ()\n",
        "# allow duplicate elements\n",
        "# immutable"
      ],
      "metadata": {
        "id": "eJlHlzMwpntK"
      },
      "execution_count": null,
      "outputs": []
    },
    {
      "cell_type": "code",
      "source": [
        "b = (15,17,27,'World','Moon','Universe','Unicorn','Stars')"
      ],
      "metadata": {
        "id": "_Jm1GLk0sBbR"
      },
      "execution_count": null,
      "outputs": []
    },
    {
      "cell_type": "code",
      "source": [
        "b[4]"
      ],
      "metadata": {
        "colab": {
          "base_uri": "https://localhost:8080/",
          "height": 36
        },
        "id": "aRWzMlbTsOVT",
        "outputId": "6ac1ca28-467f-43de-b28b-b6a2f6814d73"
      },
      "execution_count": null,
      "outputs": [
        {
          "output_type": "execute_result",
          "data": {
            "text/plain": [
              "'Moon'"
            ],
            "application/vnd.google.colaboratory.intrinsic+json": {
              "type": "string"
            }
          },
          "metadata": {},
          "execution_count": 35
        }
      ]
    },
    {
      "cell_type": "code",
      "source": [
        "b[2:7]"
      ],
      "metadata": {
        "colab": {
          "base_uri": "https://localhost:8080/"
        },
        "id": "sm0B1pq6sUES",
        "outputId": "4a5b47ca-8266-456b-b144-eba8b0e5f295"
      },
      "execution_count": null,
      "outputs": [
        {
          "output_type": "execute_result",
          "data": {
            "text/plain": [
              "(27, 'World', 'Moon', 'Universe', 'Unicorn')"
            ]
          },
          "metadata": {},
          "execution_count": 36
        }
      ]
    },
    {
      "cell_type": "code",
      "source": [
        "b[::2]"
      ],
      "metadata": {
        "colab": {
          "base_uri": "https://localhost:8080/"
        },
        "id": "golYl3Iwshal",
        "outputId": "414343b9-9122-4f74-c1d6-ac815e65eb77"
      },
      "execution_count": null,
      "outputs": [
        {
          "output_type": "execute_result",
          "data": {
            "text/plain": [
              "(15, 27, 'Moon', 'Unicorn')"
            ]
          },
          "metadata": {},
          "execution_count": 37
        }
      ]
    },
    {
      "cell_type": "code",
      "source": [
        "b.append('Sun')"
      ],
      "metadata": {
        "colab": {
          "base_uri": "https://localhost:8080/",
          "height": 165
        },
        "id": "o6RpHI9usqN7",
        "outputId": "233c1aa9-ac5f-45cc-8ace-e1b65ab7a29f"
      },
      "execution_count": null,
      "outputs": [
        {
          "output_type": "error",
          "ename": "AttributeError",
          "evalue": "ignored",
          "traceback": [
            "\u001b[0;31m---------------------------------------------------------------------------\u001b[0m",
            "\u001b[0;31mAttributeError\u001b[0m                            Traceback (most recent call last)",
            "\u001b[0;32m<ipython-input-38-40ee202f70a5>\u001b[0m in \u001b[0;36m<module>\u001b[0;34m\u001b[0m\n\u001b[0;32m----> 1\u001b[0;31m \u001b[0mb\u001b[0m\u001b[0;34m.\u001b[0m\u001b[0mappend\u001b[0m\u001b[0;34m(\u001b[0m\u001b[0;34m'Sun'\u001b[0m\u001b[0;34m)\u001b[0m\u001b[0;34m\u001b[0m\u001b[0;34m\u001b[0m\u001b[0m\n\u001b[0m",
            "\u001b[0;31mAttributeError\u001b[0m: 'tuple' object has no attribute 'append'"
          ]
        }
      ]
    },
    {
      "cell_type": "code",
      "source": [
        "b.pop()"
      ],
      "metadata": {
        "colab": {
          "base_uri": "https://localhost:8080/",
          "height": 165
        },
        "id": "DfiDpCndtDO5",
        "outputId": "0afdf81e-6a71-4b88-d52b-ac29fcf8a077"
      },
      "execution_count": null,
      "outputs": [
        {
          "output_type": "error",
          "ename": "AttributeError",
          "evalue": "ignored",
          "traceback": [
            "\u001b[0;31m---------------------------------------------------------------------------\u001b[0m",
            "\u001b[0;31mAttributeError\u001b[0m                            Traceback (most recent call last)",
            "\u001b[0;32m<ipython-input-39-81e119d9eb25>\u001b[0m in \u001b[0;36m<module>\u001b[0;34m\u001b[0m\n\u001b[0;32m----> 1\u001b[0;31m \u001b[0mb\u001b[0m\u001b[0;34m.\u001b[0m\u001b[0mpop\u001b[0m\u001b[0;34m(\u001b[0m\u001b[0;34m)\u001b[0m\u001b[0;34m\u001b[0m\u001b[0;34m\u001b[0m\u001b[0m\n\u001b[0m",
            "\u001b[0;31mAttributeError\u001b[0m: 'tuple' object has no attribute 'pop'"
          ]
        }
      ]
    },
    {
      "cell_type": "code",
      "source": [
        "b.extend(('Tuple','Pop'))"
      ],
      "metadata": {
        "colab": {
          "base_uri": "https://localhost:8080/",
          "height": 165
        },
        "id": "p6c5eLXPtPEh",
        "outputId": "7ed9a457-0102-48fd-8fd0-4cffc5385b37"
      },
      "execution_count": null,
      "outputs": [
        {
          "output_type": "error",
          "ename": "AttributeError",
          "evalue": "ignored",
          "traceback": [
            "\u001b[0;31m---------------------------------------------------------------------------\u001b[0m",
            "\u001b[0;31mAttributeError\u001b[0m                            Traceback (most recent call last)",
            "\u001b[0;32m<ipython-input-40-fa19dfdd3d93>\u001b[0m in \u001b[0;36m<module>\u001b[0;34m\u001b[0m\n\u001b[0;32m----> 1\u001b[0;31m \u001b[0mb\u001b[0m\u001b[0;34m.\u001b[0m\u001b[0mextend\u001b[0m\u001b[0;34m(\u001b[0m\u001b[0;34m(\u001b[0m\u001b[0;34m'Tuple'\u001b[0m\u001b[0;34m,\u001b[0m\u001b[0;34m'Pop'\u001b[0m\u001b[0;34m)\u001b[0m\u001b[0;34m)\u001b[0m\u001b[0;34m\u001b[0m\u001b[0;34m\u001b[0m\u001b[0m\n\u001b[0m",
            "\u001b[0;31mAttributeError\u001b[0m: 'tuple' object has no attribute 'extend'"
          ]
        }
      ]
    },
    {
      "cell_type": "code",
      "source": [
        "c = ('Cavy',123,456,['Stars','Universe','Unicorn'],2705,9698)"
      ],
      "metadata": {
        "id": "4DP4JnvatYoq"
      },
      "execution_count": null,
      "outputs": []
    },
    {
      "cell_type": "code",
      "source": [
        "c[3][0]"
      ],
      "metadata": {
        "colab": {
          "base_uri": "https://localhost:8080/",
          "height": 36
        },
        "id": "TdXudltEt9xI",
        "outputId": "79d090e3-57cf-441e-b20a-dd8fa2aef350"
      },
      "execution_count": null,
      "outputs": [
        {
          "output_type": "execute_result",
          "data": {
            "text/plain": [
              "'Stars'"
            ],
            "application/vnd.google.colaboratory.intrinsic+json": {
              "type": "string"
            }
          },
          "metadata": {},
          "execution_count": 43
        }
      ]
    },
    {
      "cell_type": "code",
      "source": [
        "c[3][1] = 'Moon'"
      ],
      "metadata": {
        "id": "SvvWw66wuoJX"
      },
      "execution_count": null,
      "outputs": []
    },
    {
      "cell_type": "code",
      "source": [
        "c"
      ],
      "metadata": {
        "colab": {
          "base_uri": "https://localhost:8080/"
        },
        "id": "GwPy20fovl8R",
        "outputId": "0f4b09c3-0c93-4b93-d62e-75f6fa7532c4"
      },
      "execution_count": null,
      "outputs": [
        {
          "output_type": "execute_result",
          "data": {
            "text/plain": [
              "('Cavy', 123, 456, ['Stars', 'Moon', 'Unicorn'], 2705, 9698)"
            ]
          },
          "metadata": {},
          "execution_count": 45
        }
      ]
    },
    {
      "cell_type": "code",
      "source": [
        "c[3].insert(2,'Python')"
      ],
      "metadata": {
        "id": "CfQCxkdVvmuX"
      },
      "execution_count": null,
      "outputs": []
    },
    {
      "cell_type": "code",
      "source": [
        "c"
      ],
      "metadata": {
        "colab": {
          "base_uri": "https://localhost:8080/"
        },
        "id": "cHQSXAklv9mZ",
        "outputId": "70c71ad2-8fbe-44dc-b27f-f8a3ccf82099"
      },
      "execution_count": null,
      "outputs": [
        {
          "output_type": "execute_result",
          "data": {
            "text/plain": [
              "('Cavy', 123, 456, ['Stars', 'Moon', 'Python', 'Unicorn'], 2705, 9698)"
            ]
          },
          "metadata": {},
          "execution_count": 47
        }
      ]
    },
    {
      "cell_type": "code",
      "source": [
        "# Set\n",
        "# collection of unique elements\n",
        "# eliminates the duplicate elements from the set\n",
        "# ṛepresented by {}"
      ],
      "metadata": {
        "id": "3rRogipCv-U6"
      },
      "execution_count": null,
      "outputs": []
    },
    {
      "cell_type": "code",
      "source": [
        "j = {11,12,13,31,24,32,33,21,23,12,'cavy','Jana','Karthick','gokila'}"
      ],
      "metadata": {
        "id": "qXdv4RQuxL5Y"
      },
      "execution_count": null,
      "outputs": []
    },
    {
      "cell_type": "code",
      "source": [
        "j"
      ],
      "metadata": {
        "colab": {
          "base_uri": "https://localhost:8080/"
        },
        "id": "w4UtHs6fxS_0",
        "outputId": "52186015-7ec3-4006-cda1-41fc90dc8283"
      },
      "execution_count": null,
      "outputs": [
        {
          "output_type": "execute_result",
          "data": {
            "text/plain": [
              "{11, 12, 13, 21, 23, 24, 31, 32, 33, 'Jana', 'Karthick', 'cavy', 'gokila'}"
            ]
          },
          "metadata": {},
          "execution_count": 53
        }
      ]
    },
    {
      "cell_type": "code",
      "source": [
        "print(j)"
      ],
      "metadata": {
        "colab": {
          "base_uri": "https://localhost:8080/"
        },
        "id": "cbr7bkeBxcli",
        "outputId": "65b08c65-fa16-472b-e78a-819d4866788a"
      },
      "execution_count": null,
      "outputs": [
        {
          "output_type": "stream",
          "name": "stdout",
          "text": [
            "{32, 33, 'gokila', 'cavy', 'Karthick', 11, 12, 13, 21, 23, 24, 'Jana', 31}\n"
          ]
        }
      ]
    },
    {
      "cell_type": "code",
      "source": [
        "j.add('Moon')"
      ],
      "metadata": {
        "id": "ljnceNnfxi_J"
      },
      "execution_count": null,
      "outputs": []
    },
    {
      "cell_type": "code",
      "source": [
        "j"
      ],
      "metadata": {
        "colab": {
          "base_uri": "https://localhost:8080/"
        },
        "id": "no_4Oy52yaql",
        "outputId": "150314f1-5e5d-435c-a467-552c587dceb6"
      },
      "execution_count": null,
      "outputs": [
        {
          "output_type": "execute_result",
          "data": {
            "text/plain": [
              "{11,\n",
              " 12,\n",
              " 13,\n",
              " 21,\n",
              " 23,\n",
              " 24,\n",
              " 31,\n",
              " 32,\n",
              " 33,\n",
              " 'Jana',\n",
              " 'Karthick',\n",
              " 'Moon',\n",
              " 'cavy',\n",
              " 'gokila'}"
            ]
          },
          "metadata": {},
          "execution_count": 58
        }
      ]
    },
    {
      "cell_type": "code",
      "source": [
        "j.update(['Data Science','Python'])"
      ],
      "metadata": {
        "id": "-ulUyBSuybt_"
      },
      "execution_count": null,
      "outputs": []
    },
    {
      "cell_type": "code",
      "source": [
        "j"
      ],
      "metadata": {
        "colab": {
          "base_uri": "https://localhost:8080/"
        },
        "id": "oWANKn63ys7O",
        "outputId": "c16589d6-5b64-4914-9378-7c394c460b1b"
      },
      "execution_count": null,
      "outputs": [
        {
          "output_type": "execute_result",
          "data": {
            "text/plain": [
              "{11,\n",
              " 12,\n",
              " 13,\n",
              " 21,\n",
              " 23,\n",
              " 24,\n",
              " 31,\n",
              " 32,\n",
              " 33,\n",
              " 'Data Science',\n",
              " 'Jana',\n",
              " 'Karthick',\n",
              " 'Moon',\n",
              " 'Python',\n",
              " 'cavy',\n",
              " 'gokila'}"
            ]
          },
          "metadata": {},
          "execution_count": 60
        }
      ]
    },
    {
      "cell_type": "code",
      "source": [
        "# Set operations\n",
        "a = set([1,2,3])\n",
        "b = set([3,4,5,6])"
      ],
      "metadata": {
        "id": "zpubT9QYytvh"
      },
      "execution_count": null,
      "outputs": []
    },
    {
      "cell_type": "code",
      "source": [
        "a.union(b)"
      ],
      "metadata": {
        "colab": {
          "base_uri": "https://localhost:8080/"
        },
        "id": "zmQB2gLjzGx4",
        "outputId": "4d8ec508-5877-4546-f5a7-2310fa150016"
      },
      "execution_count": null,
      "outputs": [
        {
          "output_type": "execute_result",
          "data": {
            "text/plain": [
              "{1, 2, 3, 4, 5, 6}"
            ]
          },
          "metadata": {},
          "execution_count": 62
        }
      ]
    },
    {
      "cell_type": "code",
      "source": [
        "a.intersection(b)"
      ],
      "metadata": {
        "colab": {
          "base_uri": "https://localhost:8080/"
        },
        "id": "Mw8n1CHyzLdh",
        "outputId": "2224ffc4-98d3-401c-c1d0-8dc0f0f9d8b8"
      },
      "execution_count": null,
      "outputs": [
        {
          "output_type": "execute_result",
          "data": {
            "text/plain": [
              "{3}"
            ]
          },
          "metadata": {},
          "execution_count": 63
        }
      ]
    },
    {
      "cell_type": "code",
      "source": [
        "a|b"
      ],
      "metadata": {
        "colab": {
          "base_uri": "https://localhost:8080/"
        },
        "id": "96IUu2kWzS4d",
        "outputId": "639fc495-5db9-46b6-ffd2-877aba05f7c4"
      },
      "execution_count": null,
      "outputs": [
        {
          "output_type": "execute_result",
          "data": {
            "text/plain": [
              "{1, 2, 3, 4, 5, 6}"
            ]
          },
          "metadata": {},
          "execution_count": 64
        }
      ]
    },
    {
      "cell_type": "code",
      "source": [
        "a&b"
      ],
      "metadata": {
        "colab": {
          "base_uri": "https://localhost:8080/"
        },
        "id": "P6amZ5jMzakv",
        "outputId": "58ae51da-7c2e-4daf-fcb9-8ae9c6f2650b"
      },
      "execution_count": null,
      "outputs": [
        {
          "output_type": "execute_result",
          "data": {
            "text/plain": [
              "{3}"
            ]
          },
          "metadata": {},
          "execution_count": 65
        }
      ]
    },
    {
      "cell_type": "code",
      "source": [
        "# c = {12,34,56,78}\n",
        "# d = {12,45,67,89,78}\n",
        "# perform intersection and union"
      ],
      "metadata": {
        "id": "E2Me43IhzeZU"
      },
      "execution_count": null,
      "outputs": []
    },
    {
      "cell_type": "code",
      "source": [
        "# set difference"
      ],
      "metadata": {
        "id": "C1N57o33zrrA"
      },
      "execution_count": null,
      "outputs": []
    },
    {
      "cell_type": "code",
      "source": [
        "a = {23,45,56,77,89}\n",
        "b = {23,45,54,33,23}"
      ],
      "metadata": {
        "id": "pehNRvgI0TlG"
      },
      "execution_count": null,
      "outputs": []
    },
    {
      "cell_type": "code",
      "source": [
        "a-b"
      ],
      "metadata": {
        "colab": {
          "base_uri": "https://localhost:8080/"
        },
        "id": "z4GZudSO0aJp",
        "outputId": "a951b233-4193-476d-b180-1091a5091403"
      },
      "execution_count": null,
      "outputs": [
        {
          "output_type": "execute_result",
          "data": {
            "text/plain": [
              "{56, 77, 89}"
            ]
          },
          "metadata": {},
          "execution_count": 70
        }
      ]
    },
    {
      "cell_type": "code",
      "source": [
        "b-a"
      ],
      "metadata": {
        "colab": {
          "base_uri": "https://localhost:8080/"
        },
        "id": "Ze-x-kcB0yTB",
        "outputId": "7461c4ed-637f-4d62-9b06-32c1efa40171"
      },
      "execution_count": null,
      "outputs": [
        {
          "output_type": "execute_result",
          "data": {
            "text/plain": [
              "{33, 54}"
            ]
          },
          "metadata": {},
          "execution_count": 71
        }
      ]
    },
    {
      "cell_type": "code",
      "source": [
        "# Dictionary\n",
        "# unordered collection of elements\n",
        "# key:value \n",
        "# represented by {}\n",
        "# keys should be unique"
      ],
      "metadata": {
        "id": "EZpf-tp601ve"
      },
      "execution_count": null,
      "outputs": []
    },
    {
      "cell_type": "code",
      "source": [
        "s = {'Name':'Athicavy','Age':27,'Dateofbirth':'27/05/96','Profession':'DataScientist'}"
      ],
      "metadata": {
        "id": "4obuGnNZ09iK"
      },
      "execution_count": null,
      "outputs": []
    },
    {
      "cell_type": "code",
      "source": [
        "s.keys()"
      ],
      "metadata": {
        "colab": {
          "base_uri": "https://localhost:8080/"
        },
        "id": "R2k8oQg31p-5",
        "outputId": "9101c862-46f1-4d16-e9bc-010af89b3823"
      },
      "execution_count": null,
      "outputs": [
        {
          "output_type": "execute_result",
          "data": {
            "text/plain": [
              "dict_keys(['Name', 'Age', 'Dateofbirth', 'Profession'])"
            ]
          },
          "metadata": {},
          "execution_count": 75
        }
      ]
    },
    {
      "cell_type": "code",
      "source": [
        "s.values()"
      ],
      "metadata": {
        "colab": {
          "base_uri": "https://localhost:8080/"
        },
        "id": "mDtgViv410ZP",
        "outputId": "b7446452-19f3-4327-b8b1-2289156482cb"
      },
      "execution_count": null,
      "outputs": [
        {
          "output_type": "execute_result",
          "data": {
            "text/plain": [
              "dict_values(['Athicavy', 27, '27/05/96', 'DataScientist'])"
            ]
          },
          "metadata": {},
          "execution_count": 76
        }
      ]
    },
    {
      "cell_type": "code",
      "source": [
        "s['Name']"
      ],
      "metadata": {
        "colab": {
          "base_uri": "https://localhost:8080/",
          "height": 36
        },
        "id": "5vWKg2o_1978",
        "outputId": "baf9dc30-67b6-45a5-90f8-ce4e93edee69"
      },
      "execution_count": null,
      "outputs": [
        {
          "output_type": "execute_result",
          "data": {
            "text/plain": [
              "'Athicavy'"
            ],
            "application/vnd.google.colaboratory.intrinsic+json": {
              "type": "string"
            }
          },
          "metadata": {},
          "execution_count": 78
        }
      ]
    },
    {
      "cell_type": "code",
      "source": [
        "s['Profession']"
      ],
      "metadata": {
        "colab": {
          "base_uri": "https://localhost:8080/",
          "height": 36
        },
        "id": "-uFs28422EYJ",
        "outputId": "4194be49-368b-46e5-ceec-583efd80cb2d"
      },
      "execution_count": null,
      "outputs": [
        {
          "output_type": "execute_result",
          "data": {
            "text/plain": [
              "'DataScientist'"
            ],
            "application/vnd.google.colaboratory.intrinsic+json": {
              "type": "string"
            }
          },
          "metadata": {},
          "execution_count": 80
        }
      ]
    },
    {
      "cell_type": "code",
      "source": [
        "s['Hobby'] = 'Cooking'"
      ],
      "metadata": {
        "id": "OuZPybXi2OMR"
      },
      "execution_count": null,
      "outputs": []
    },
    {
      "cell_type": "code",
      "source": [
        "s"
      ],
      "metadata": {
        "colab": {
          "base_uri": "https://localhost:8080/"
        },
        "id": "jEboLEHv2sfF",
        "outputId": "dee28289-8764-4f51-f42a-112e50f5917c"
      },
      "execution_count": null,
      "outputs": [
        {
          "output_type": "execute_result",
          "data": {
            "text/plain": [
              "{'Name': 'Athicavy',\n",
              " 'Age': 27,\n",
              " 'Dateofbirth': '27/05/96',\n",
              " 'Profession': 'DataScientist',\n",
              " 'Hobby': 'Cooking'}"
            ]
          },
          "metadata": {},
          "execution_count": 82
        }
      ]
    },
    {
      "cell_type": "code",
      "source": [
        "s['Dateofbirth'] = '27th May,96'"
      ],
      "metadata": {
        "id": "YKYI3ui52tVj"
      },
      "execution_count": null,
      "outputs": []
    },
    {
      "cell_type": "code",
      "source": [
        "s"
      ],
      "metadata": {
        "colab": {
          "base_uri": "https://localhost:8080/"
        },
        "id": "PR6t-uv_35m-",
        "outputId": "b8657899-bd0e-4e5e-d138-21661dbf2e04"
      },
      "execution_count": null,
      "outputs": [
        {
          "output_type": "execute_result",
          "data": {
            "text/plain": [
              "{'Name': 'Athicavy',\n",
              " 'Age': 27,\n",
              " 'Dateofbirth': '27th May,96',\n",
              " 'Profession': 'DataScientist',\n",
              " 'Hobby': 'Cooking'}"
            ]
          },
          "metadata": {},
          "execution_count": 84
        }
      ]
    },
    {
      "cell_type": "code",
      "source": [
        "del s['Dateofbirth']"
      ],
      "metadata": {
        "id": "3q7TdaJw37YL"
      },
      "execution_count": null,
      "outputs": []
    },
    {
      "cell_type": "code",
      "source": [
        "s"
      ],
      "metadata": {
        "colab": {
          "base_uri": "https://localhost:8080/"
        },
        "id": "8Royo2ZO4J3p",
        "outputId": "544a3f6a-60bf-422d-d270-354964bd9820"
      },
      "execution_count": null,
      "outputs": [
        {
          "output_type": "execute_result",
          "data": {
            "text/plain": [
              "{'Name': 'Athicavy',\n",
              " 'Age': 27,\n",
              " 'Profession': 'DataScientist',\n",
              " 'Hobby': 'Cooking'}"
            ]
          },
          "metadata": {},
          "execution_count": 86
        }
      ]
    },
    {
      "cell_type": "code",
      "source": [
        "# Create a dict, key of Name, Favhero, Favheroine, Hobby\n",
        "# add the key profession.\n",
        "# change the hobby value to some other value.\n",
        "# delete the favheroine\n",
        "# access all the keys and values"
      ],
      "metadata": {
        "id": "TU_NTBsP4Kim"
      },
      "execution_count": null,
      "outputs": []
    },
    {
      "cell_type": "code",
      "source": [
        "a = {'Mentors':['Athicavy','Jana','Karthick','Gokila','Santhosh'],\n",
        "     'Learners_Name':['Sangeetha','Vijay','Aparajitha','Praveen','Sujith']}"
      ],
      "metadata": {
        "id": "Cfc023rX4zfK"
      },
      "execution_count": null,
      "outputs": []
    },
    {
      "cell_type": "code",
      "source": [
        "a.keys()"
      ],
      "metadata": {
        "colab": {
          "base_uri": "https://localhost:8080/"
        },
        "id": "AUtMOHpA6ae_",
        "outputId": "83b78d5b-a421-45ab-f284-f470c3167cae"
      },
      "execution_count": null,
      "outputs": [
        {
          "output_type": "execute_result",
          "data": {
            "text/plain": [
              "dict_keys(['Mentors', 'Learners_Name'])"
            ]
          },
          "metadata": {},
          "execution_count": 90
        }
      ]
    },
    {
      "cell_type": "code",
      "source": [
        "a.values()"
      ],
      "metadata": {
        "colab": {
          "base_uri": "https://localhost:8080/"
        },
        "id": "tiJVTjXW6f-x",
        "outputId": "c61ae97e-7527-45ca-e33c-5b1dde702932"
      },
      "execution_count": null,
      "outputs": [
        {
          "output_type": "execute_result",
          "data": {
            "text/plain": [
              "dict_values([['Athicavy', 'Jana', 'Karthick', 'Gokila', 'Santhosh'], ['Sangeetha', 'Vijay', 'Aparajitha', 'Praveen', 'Sujith']])"
            ]
          },
          "metadata": {},
          "execution_count": 91
        }
      ]
    },
    {
      "cell_type": "code",
      "source": [
        "a"
      ],
      "metadata": {
        "colab": {
          "base_uri": "https://localhost:8080/"
        },
        "id": "qqLGTAOB6iKN",
        "outputId": "3f408102-84ba-4898-84b8-7cfa8737d704"
      },
      "execution_count": null,
      "outputs": [
        {
          "output_type": "execute_result",
          "data": {
            "text/plain": [
              "{'Mentors': ['Athicavy', 'Jana', 'Karthick', 'Gokila', 'Santhosh'],\n",
              " 'Learners_Name': ['Sangeetha', 'Vijay', 'Aparajitha', 'Praveen', 'Sujith']}"
            ]
          },
          "metadata": {},
          "execution_count": 95
        }
      ]
    },
    {
      "cell_type": "code",
      "source": [
        "# conditional statements\n",
        "# looping statements\n",
        "# lambda,filter,map and reduce"
      ],
      "metadata": {
        "id": "L-Pwfkt-65f4"
      },
      "execution_count": null,
      "outputs": []
    },
    {
      "cell_type": "code",
      "source": [
        "# if statement"
      ],
      "metadata": {
        "id": "F8KHh8gnsyEO"
      },
      "execution_count": null,
      "outputs": []
    },
    {
      "cell_type": "code",
      "source": [
        "a = 11\n",
        "b = 200"
      ],
      "metadata": {
        "id": "YA6kEMkws1Y1"
      },
      "execution_count": null,
      "outputs": []
    },
    {
      "cell_type": "code",
      "source": [
        "if b>a:\n",
        "  print('B is greater than a')"
      ],
      "metadata": {
        "colab": {
          "base_uri": "https://localhost:8080/"
        },
        "id": "w2ZiqS2ys3xz",
        "outputId": "42c999e7-a2e2-46d3-e65b-399e96b85831"
      },
      "execution_count": null,
      "outputs": [
        {
          "output_type": "stream",
          "name": "stdout",
          "text": [
            "B is greater than a\n"
          ]
        }
      ]
    },
    {
      "cell_type": "code",
      "source": [
        "if a<b:\n",
        "  print('a is lesser than b')"
      ],
      "metadata": {
        "colab": {
          "base_uri": "https://localhost:8080/"
        },
        "id": "8Nndyy3RtfTn",
        "outputId": "768755d9-abae-4f5e-8aa4-5b7b810c44da"
      },
      "execution_count": null,
      "outputs": [
        {
          "output_type": "stream",
          "name": "stdout",
          "text": [
            "a is lesser than b\n"
          ]
        }
      ]
    },
    {
      "cell_type": "code",
      "source": [
        "if b>a:\n",
        "  print('B is greater than a')\n",
        "else:\n",
        "  print('B is lesser than a')"
      ],
      "metadata": {
        "colab": {
          "base_uri": "https://localhost:8080/"
        },
        "id": "aTCAXPY2t1s7",
        "outputId": "b66db7c2-e8f0-46a2-bec3-11c1e4777da0"
      },
      "execution_count": null,
      "outputs": [
        {
          "output_type": "stream",
          "name": "stdout",
          "text": [
            "B is greater than a\n"
          ]
        }
      ]
    },
    {
      "cell_type": "code",
      "source": [
        "a = 33\n",
        "b = 33\n",
        "if b>a:\n",
        "  print('B is greater than a')\n",
        "elif a==b:\n",
        "  print('A and B are equal')\n",
        "elif b<a:\n",
        "  print('B is lesser than a')"
      ],
      "metadata": {
        "colab": {
          "base_uri": "https://localhost:8080/"
        },
        "id": "aqAOskcRuRD-",
        "outputId": "3d870a46-a4c4-4792-fe47-48cc01b91b0e"
      },
      "execution_count": null,
      "outputs": [
        {
          "output_type": "stream",
          "name": "stdout",
          "text": [
            "A and B are equal\n"
          ]
        }
      ]
    },
    {
      "cell_type": "code",
      "source": [
        "# Get the input from the user, if the input is less than 10, print the value is lesser than 10\n",
        "# input is inbetween than 20 and 35, print the value is present inbetween 20 and 35\n"
      ],
      "metadata": {
        "id": "4WxFPoTgumcG"
      },
      "execution_count": null,
      "outputs": []
    },
    {
      "cell_type": "code",
      "source": [
        "# Get the input as marks from the user, if the marks are less than or equal to 34, print the statement sorry you have got failed in the exam\n",
        "# if the marks are greater than or equal to 35 and lesser than 50, passed in second class\n",
        "# greater than 50 and lesser than 95, passed in first class\n",
        "# greater than or equal to 95 passed in first class with distinction"
      ],
      "metadata": {
        "id": "-6BtNRVhu0MM"
      },
      "execution_count": null,
      "outputs": []
    },
    {
      "cell_type": "code",
      "source": [
        "# for loop"
      ],
      "metadata": {
        "id": "PLfMiJ0o03_D"
      },
      "execution_count": null,
      "outputs": []
    },
    {
      "cell_type": "code",
      "source": [
        "for i in range(1,11):\n",
        "  print(i)"
      ],
      "metadata": {
        "colab": {
          "base_uri": "https://localhost:8080/"
        },
        "id": "h64ZtSh7054Z",
        "outputId": "9c9292b6-2e0b-427c-9fef-259e4407f042"
      },
      "execution_count": null,
      "outputs": [
        {
          "output_type": "stream",
          "name": "stdout",
          "text": [
            "1\n",
            "2\n",
            "3\n",
            "4\n",
            "5\n",
            "6\n",
            "7\n",
            "8\n",
            "9\n",
            "10\n"
          ]
        }
      ]
    },
    {
      "cell_type": "code",
      "source": [
        "for i in range(1,11):\n",
        "  print(2*i)"
      ],
      "metadata": {
        "colab": {
          "base_uri": "https://localhost:8080/"
        },
        "id": "JF3Rk1SK1rCp",
        "outputId": "8e52b4a8-cd5e-433a-fba3-51688a586c41"
      },
      "execution_count": null,
      "outputs": [
        {
          "output_type": "stream",
          "name": "stdout",
          "text": [
            "2\n",
            "4\n",
            "6\n",
            "8\n",
            "10\n",
            "12\n",
            "14\n",
            "16\n",
            "18\n",
            "20\n"
          ]
        }
      ]
    },
    {
      "cell_type": "code",
      "source": [
        "for i in range(1,21):\n",
        "  print(5*i)"
      ],
      "metadata": {
        "colab": {
          "base_uri": "https://localhost:8080/"
        },
        "id": "BkGqNHPM17br",
        "outputId": "a6604d08-c02c-4cf3-fb23-0cf1529c5f2f"
      },
      "execution_count": null,
      "outputs": [
        {
          "output_type": "stream",
          "name": "stdout",
          "text": [
            "5\n",
            "10\n",
            "15\n",
            "20\n",
            "25\n",
            "30\n",
            "35\n",
            "40\n",
            "45\n",
            "50\n",
            "55\n",
            "60\n",
            "65\n",
            "70\n",
            "75\n",
            "80\n",
            "85\n",
            "90\n",
            "95\n",
            "100\n"
          ]
        }
      ]
    },
    {
      "cell_type": "code",
      "source": [
        "a = [1,2,3,4,5,6,7,8,9]"
      ],
      "metadata": {
        "id": "bziBxT1Q2W9a"
      },
      "execution_count": null,
      "outputs": []
    },
    {
      "cell_type": "code",
      "source": [
        "a[0]"
      ],
      "metadata": {
        "colab": {
          "base_uri": "https://localhost:8080/"
        },
        "id": "HX_ZCP4629ek",
        "outputId": "9cfcc4a8-0d79-462f-d892-540f9389704a"
      },
      "execution_count": null,
      "outputs": [
        {
          "output_type": "execute_result",
          "data": {
            "text/plain": [
              "1"
            ]
          },
          "metadata": {},
          "execution_count": 24
        }
      ]
    },
    {
      "cell_type": "code",
      "source": [
        "# get the even numbers from the list\n",
        "for i in a:\n",
        "  if i%2==0:\n",
        "    print(i)"
      ],
      "metadata": {
        "colab": {
          "base_uri": "https://localhost:8080/"
        },
        "id": "M3e9eyxX2hIj",
        "outputId": "ac89a03a-14f0-4f55-b56b-47faf9baf3d8"
      },
      "execution_count": null,
      "outputs": [
        {
          "output_type": "stream",
          "name": "stdout",
          "text": [
            "2\n",
            "4\n",
            "6\n",
            "8\n"
          ]
        }
      ]
    },
    {
      "cell_type": "code",
      "source": [
        "# Get the odd numbers from the list\n",
        "for i in a:\n",
        "  if i%2!=0:\n",
        "    print(i)"
      ],
      "metadata": {
        "colab": {
          "base_uri": "https://localhost:8080/"
        },
        "id": "toP_lrMT327k",
        "outputId": "f9d3e585-e63b-4460-d867-71fb2b042b30"
      },
      "execution_count": null,
      "outputs": [
        {
          "output_type": "stream",
          "name": "stdout",
          "text": [
            "1\n",
            "3\n",
            "5\n",
            "7\n",
            "9\n"
          ]
        }
      ]
    },
    {
      "cell_type": "code",
      "source": [
        "for i in range(1,11):\n",
        "  if i==6:\n",
        "    break\n",
        "  else:\n",
        "    print(i)"
      ],
      "metadata": {
        "colab": {
          "base_uri": "https://localhost:8080/"
        },
        "id": "U9haku5t4Bec",
        "outputId": "63841ca8-800b-436f-f6f1-780585e7fa17"
      },
      "execution_count": null,
      "outputs": [
        {
          "output_type": "stream",
          "name": "stdout",
          "text": [
            "1\n",
            "2\n",
            "3\n",
            "4\n",
            "5\n"
          ]
        }
      ]
    },
    {
      "cell_type": "code",
      "source": [
        "vegetables = ['Carrot','Beetroot','Cauliflower','Broccoli','Onion','Tomato']"
      ],
      "metadata": {
        "id": "2Xl0Jcmz5nBM"
      },
      "execution_count": null,
      "outputs": []
    },
    {
      "cell_type": "code",
      "source": [
        "j = 'Data science'"
      ],
      "metadata": {
        "id": "XSFZmfHT57YC"
      },
      "execution_count": null,
      "outputs": []
    },
    {
      "cell_type": "code",
      "source": [
        "for i in j:\n",
        "  print(i)"
      ],
      "metadata": {
        "colab": {
          "base_uri": "https://localhost:8080/"
        },
        "id": "MBdBKf3b8HqN",
        "outputId": "2853d59f-5d3a-4954-d829-c0700c27e710"
      },
      "execution_count": null,
      "outputs": [
        {
          "output_type": "stream",
          "name": "stdout",
          "text": [
            "D\n",
            "a\n",
            "t\n",
            "a\n",
            " \n",
            "s\n",
            "c\n",
            "i\n",
            "e\n",
            "n\n",
            "c\n",
            "e\n"
          ]
        }
      ]
    },
    {
      "cell_type": "code",
      "source": [
        "# while statement"
      ],
      "metadata": {
        "id": "T8wQA1mg8NGo"
      },
      "execution_count": null,
      "outputs": []
    },
    {
      "cell_type": "code",
      "source": [
        "i = 1\n",
        "while i<=10:\n",
        "  print('Hello')\n",
        "  i+=1"
      ],
      "metadata": {
        "colab": {
          "base_uri": "https://localhost:8080/"
        },
        "id": "xF5qDtVa8ZNp",
        "outputId": "cd08f373-7f0a-4e99-a4a6-8c27730813c8"
      },
      "execution_count": null,
      "outputs": [
        {
          "output_type": "stream",
          "name": "stdout",
          "text": [
            "Hello\n",
            "Hello\n",
            "Hello\n",
            "Hello\n",
            "Hello\n",
            "Hello\n",
            "Hello\n",
            "Hello\n",
            "Hello\n",
            "Hello\n"
          ]
        }
      ]
    },
    {
      "cell_type": "code",
      "source": [
        "i = 1\n",
        "while i<=10:\n",
        "  print('Hello')\n",
        "  i+=1\n",
        "  continue"
      ],
      "metadata": {
        "colab": {
          "base_uri": "https://localhost:8080/"
        },
        "id": "Pat7m7PR8vdD",
        "outputId": "0890d1d0-1d09-417e-a3db-cfb3f9e52be2"
      },
      "execution_count": null,
      "outputs": [
        {
          "output_type": "stream",
          "name": "stdout",
          "text": [
            "Hello\n",
            "Hello\n",
            "Hello\n",
            "Hello\n",
            "Hello\n",
            "Hello\n",
            "Hello\n",
            "Hello\n",
            "Hello\n",
            "Hello\n"
          ]
        }
      ]
    },
    {
      "cell_type": "code",
      "source": [
        "i = 1\n",
        "while i<=10:\n",
        "  print('Hello')\n",
        "  pass\n",
        "  i+=1"
      ],
      "metadata": {
        "colab": {
          "base_uri": "https://localhost:8080/"
        },
        "id": "oSEA0ETz9bka",
        "outputId": "0e8fc81a-a3ef-4573-a776-93e7efceda5c"
      },
      "execution_count": null,
      "outputs": [
        {
          "output_type": "stream",
          "name": "stdout",
          "text": [
            "Hello\n",
            "Hello\n",
            "Hello\n",
            "Hello\n",
            "Hello\n",
            "Hello\n",
            "Hello\n",
            "Hello\n",
            "Hello\n",
            "Hello\n"
          ]
        }
      ]
    },
    {
      "cell_type": "code",
      "source": [
        "# python program to check whether the number is odd and divisible by 3"
      ],
      "metadata": {
        "id": "wx4dbO-z-AfF"
      },
      "execution_count": null,
      "outputs": []
    },
    {
      "cell_type": "code",
      "source": [
        "s = [4,5,9,17,21]"
      ],
      "metadata": {
        "id": "Q-PsAHSf-c31"
      },
      "execution_count": null,
      "outputs": []
    },
    {
      "cell_type": "code",
      "source": [
        "for i in s:\n",
        "  if i%2!=0:\n",
        "    if i%3==0:\n",
        "      print(i,'is an odd number and divisible by 3')\n",
        "    else:\n",
        "      print(i,'is an odd number but not divisible by 3')\n",
        "  else:\n",
        "    print(i,'is an even number')\n"
      ],
      "metadata": {
        "colab": {
          "base_uri": "https://localhost:8080/"
        },
        "id": "WGhP9N2O-r2m",
        "outputId": "a3a3ee42-d553-4f02-ea67-fc05b239ba31"
      },
      "execution_count": null,
      "outputs": [
        {
          "output_type": "stream",
          "name": "stdout",
          "text": [
            "4 is an even number\n",
            "5 is an odd number but not divisible by 3\n",
            "9 is an odd number and divisible by 3\n",
            "17 is an odd number but not divisible by 3\n",
            "21 is an odd number and divisible by 3\n"
          ]
        }
      ]
    },
    {
      "cell_type": "code",
      "source": [
        "# Lambda function\n",
        "# anonymous function\n",
        "# arguments:expression\n",
        "# multiple arguments but only one expression can be used"
      ],
      "metadata": {
        "id": "vtlSstzf_XA7"
      },
      "execution_count": null,
      "outputs": []
    },
    {
      "cell_type": "code",
      "source": [
        "a = 10\n",
        "a+10"
      ],
      "metadata": {
        "colab": {
          "base_uri": "https://localhost:8080/"
        },
        "id": "X6cBYrewAK7K",
        "outputId": "da0b74cf-b5bc-46bd-e5a4-5a11efdd2b4f"
      },
      "execution_count": null,
      "outputs": [
        {
          "output_type": "execute_result",
          "data": {
            "text/plain": [
              "20"
            ]
          },
          "metadata": {},
          "execution_count": 46
        }
      ]
    },
    {
      "cell_type": "code",
      "source": [
        "x = lambda a : a+10"
      ],
      "metadata": {
        "id": "lVJB_HX___nr"
      },
      "execution_count": null,
      "outputs": []
    },
    {
      "cell_type": "code",
      "source": [
        "x(10)"
      ],
      "metadata": {
        "colab": {
          "base_uri": "https://localhost:8080/"
        },
        "id": "q9fQh_b6AnTP",
        "outputId": "3d1280f4-cbe0-4141-b7c2-59350252e9b7"
      },
      "execution_count": null,
      "outputs": [
        {
          "output_type": "execute_result",
          "data": {
            "text/plain": [
              "20"
            ]
          },
          "metadata": {},
          "execution_count": 48
        }
      ]
    },
    {
      "cell_type": "code",
      "source": [
        "d = lambda a,b,c : a+b+c"
      ],
      "metadata": {
        "id": "G3TzVQlXAuXp"
      },
      "execution_count": null,
      "outputs": []
    },
    {
      "cell_type": "code",
      "source": [
        "d(2,3,4)"
      ],
      "metadata": {
        "colab": {
          "base_uri": "https://localhost:8080/"
        },
        "id": "O24lDhTEBFAL",
        "outputId": "340801d7-ed64-43c2-9204-5d827f5f5670"
      },
      "execution_count": null,
      "outputs": [
        {
          "output_type": "execute_result",
          "data": {
            "text/plain": [
              "9"
            ]
          },
          "metadata": {},
          "execution_count": 50
        }
      ]
    },
    {
      "cell_type": "code",
      "source": [
        "d('Dushyanth ','Vijay ','Aprajitha ')\n",
        "# concatenation"
      ],
      "metadata": {
        "colab": {
          "base_uri": "https://localhost:8080/",
          "height": 36
        },
        "id": "PH7v7NPzBNsm",
        "outputId": "fea49abe-10f3-49d7-aded-50d8bb90c1f1"
      },
      "execution_count": null,
      "outputs": [
        {
          "output_type": "execute_result",
          "data": {
            "text/plain": [
              "'Dushyanth Vijay Aprajitha '"
            ],
            "application/vnd.google.colaboratory.intrinsic+json": {
              "type": "string"
            }
          },
          "metadata": {},
          "execution_count": 53
        }
      ]
    },
    {
      "cell_type": "code",
      "source": [
        "# a*b/c"
      ],
      "metadata": {
        "id": "x5DcbRylBYES"
      },
      "execution_count": null,
      "outputs": []
    },
    {
      "cell_type": "code",
      "source": [
        "# map\n",
        "a = [1,4,9,16]\n",
        "# map(function,sequence)"
      ],
      "metadata": {
        "id": "Yi3yLuwqB0Qx"
      },
      "execution_count": null,
      "outputs": []
    },
    {
      "cell_type": "code",
      "source": [
        "list(map(lambda s : s*s,a))"
      ],
      "metadata": {
        "colab": {
          "base_uri": "https://localhost:8080/"
        },
        "id": "n-lQKBUgCRGv",
        "outputId": "4107d598-6f70-4dbb-e3a0-cc7b8810ce06"
      },
      "execution_count": null,
      "outputs": [
        {
          "output_type": "execute_result",
          "data": {
            "text/plain": [
              "[1, 16, 81, 256]"
            ]
          },
          "metadata": {},
          "execution_count": 59
        }
      ]
    },
    {
      "cell_type": "code",
      "source": [
        "set(map(lambda s : s*s,a))"
      ],
      "metadata": {
        "colab": {
          "base_uri": "https://localhost:8080/"
        },
        "id": "k1L_wg8RDHKz",
        "outputId": "5851c22b-77ae-4d2b-a184-ffc9584c0ca1"
      },
      "execution_count": null,
      "outputs": [
        {
          "output_type": "execute_result",
          "data": {
            "text/plain": [
              "{1, 16, 81, 256}"
            ]
          },
          "metadata": {},
          "execution_count": 60
        }
      ]
    },
    {
      "cell_type": "code",
      "source": [
        "tuple(map(lambda s : s*s,a))"
      ],
      "metadata": {
        "colab": {
          "base_uri": "https://localhost:8080/"
        },
        "id": "Jry5GhIQDlAj",
        "outputId": "2f0e02b3-040e-48ef-d9bb-5cd096f5359e"
      },
      "execution_count": null,
      "outputs": [
        {
          "output_type": "execute_result",
          "data": {
            "text/plain": [
              "(1, 16, 81, 256)"
            ]
          },
          "metadata": {},
          "execution_count": 61
        }
      ]
    },
    {
      "cell_type": "code",
      "source": [
        "c = [2,5,10,6,4,12]"
      ],
      "metadata": {
        "id": "JqcnRQybDuit"
      },
      "execution_count": null,
      "outputs": []
    },
    {
      "cell_type": "code",
      "source": [
        "list(map(lambda a : a**3,c))"
      ],
      "metadata": {
        "colab": {
          "base_uri": "https://localhost:8080/"
        },
        "id": "r66M0EAgD34f",
        "outputId": "957185c1-a384-4997-e09f-fdddd3655a33"
      },
      "execution_count": null,
      "outputs": [
        {
          "output_type": "execute_result",
          "data": {
            "text/plain": [
              "[8, 125, 1000, 216, 64, 1728]"
            ]
          },
          "metadata": {},
          "execution_count": 65
        }
      ]
    },
    {
      "cell_type": "code",
      "source": [
        "# filter\n",
        "# filter(function,sequence)"
      ],
      "metadata": {
        "id": "w2FvxiHvFBNf"
      },
      "execution_count": null,
      "outputs": []
    },
    {
      "cell_type": "code",
      "source": [
        "z = [10,40,56,27,33,15,70]"
      ],
      "metadata": {
        "id": "PnnPzeWiF7yr"
      },
      "execution_count": null,
      "outputs": []
    },
    {
      "cell_type": "code",
      "source": [
        "list(filter(lambda a : a%4==0 , z))"
      ],
      "metadata": {
        "colab": {
          "base_uri": "https://localhost:8080/"
        },
        "id": "UjawpJwcGFmY",
        "outputId": "84f64bc3-862b-4e0a-ed34-8a8c64dc7a11"
      },
      "execution_count": null,
      "outputs": [
        {
          "output_type": "execute_result",
          "data": {
            "text/plain": [
              "[40, 56]"
            ]
          },
          "metadata": {},
          "execution_count": 70
        }
      ]
    },
    {
      "cell_type": "code",
      "source": [
        "list(filter(lambda a : a%2==0,z))"
      ],
      "metadata": {
        "colab": {
          "base_uri": "https://localhost:8080/"
        },
        "id": "5RGT2V92GiA8",
        "outputId": "3f78902b-41a9-4381-a482-1cd89d79355a"
      },
      "execution_count": null,
      "outputs": [
        {
          "output_type": "execute_result",
          "data": {
            "text/plain": [
              "[10, 40, 56, 70]"
            ]
          },
          "metadata": {},
          "execution_count": 71
        }
      ]
    },
    {
      "cell_type": "code",
      "source": [
        "# reduce"
      ],
      "metadata": {
        "id": "kXxyQIJBG069"
      },
      "execution_count": null,
      "outputs": []
    },
    {
      "cell_type": "code",
      "source": [
        "from functools import reduce"
      ],
      "metadata": {
        "id": "PrabgIWfG8Pu"
      },
      "execution_count": null,
      "outputs": []
    },
    {
      "cell_type": "code",
      "source": [
        "l = [2,5,10,6,4,12]"
      ],
      "metadata": {
        "id": "4Y9ee_l5HIFQ"
      },
      "execution_count": null,
      "outputs": []
    },
    {
      "cell_type": "code",
      "source": [
        "reduce(lambda x,y : x+y,l)"
      ],
      "metadata": {
        "colab": {
          "base_uri": "https://localhost:8080/"
        },
        "id": "QsCp46QUHP2U",
        "outputId": "a0c35942-024a-4daa-d851-c30832321f91"
      },
      "execution_count": null,
      "outputs": [
        {
          "output_type": "execute_result",
          "data": {
            "text/plain": [
              "39"
            ]
          },
          "metadata": {},
          "execution_count": 75
        }
      ]
    },
    {
      "cell_type": "code",
      "source": [
        "a = 10,15,10\n"
      ],
      "metadata": {
        "id": "oXWBczuYHoUk"
      },
      "execution_count": null,
      "outputs": []
    },
    {
      "cell_type": "code",
      "source": [
        "a"
      ],
      "metadata": {
        "colab": {
          "base_uri": "https://localhost:8080/"
        },
        "id": "d9Lu5MlwJoK8",
        "outputId": "0ef58bba-88ff-4781-ec46-3af590c85bf1"
      },
      "execution_count": null,
      "outputs": [
        {
          "output_type": "execute_result",
          "data": {
            "text/plain": [
              "(10, 15, 10)"
            ]
          },
          "metadata": {},
          "execution_count": 77
        }
      ]
    },
    {
      "cell_type": "code",
      "source": [
        "b = 10\n",
        "b"
      ],
      "metadata": {
        "id": "RLCRNg0HJpfk",
        "outputId": "92f4379c-6d37-4d36-d4cb-a009f4f98639",
        "colab": {
          "base_uri": "https://localhost:8080/"
        }
      },
      "execution_count": null,
      "outputs": [
        {
          "output_type": "execute_result",
          "data": {
            "text/plain": [
              "10"
            ]
          },
          "metadata": {},
          "execution_count": 78
        }
      ]
    },
    {
      "cell_type": "code",
      "source": [],
      "metadata": {
        "id": "tIZ4dr67Jtyt"
      },
      "execution_count": null,
      "outputs": []
    }
  ]
}